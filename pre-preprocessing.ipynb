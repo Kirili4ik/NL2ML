{
 "cells": [
  {
   "cell_type": "code",
   "execution_count": 8,
   "metadata": {},
   "outputs": [],
   "source": [
    "import pandas as pd\n",
    "import numpy as np"
   ]
  },
  {
   "cell_type": "code",
   "execution_count": 9,
   "metadata": {},
   "outputs": [
    {
     "data": {
      "text/html": [
       "<div>\n",
       "<style scoped>\n",
       "    .dataframe tbody tr th:only-of-type {\n",
       "        vertical-align: middle;\n",
       "    }\n",
       "\n",
       "    .dataframe tbody tr th {\n",
       "        vertical-align: top;\n",
       "    }\n",
       "\n",
       "    .dataframe thead th {\n",
       "        text-align: right;\n",
       "    }\n",
       "</style>\n",
       "<table border=\"1\" class=\"dataframe\">\n",
       "  <thead>\n",
       "    <tr style=\"text-align: right;\">\n",
       "      <th></th>\n",
       "      <th>code_block</th>\n",
       "      <th>tag</th>\n",
       "    </tr>\n",
       "  </thead>\n",
       "  <tbody>\n",
       "    <tr>\n",
       "      <th>0</th>\n",
       "      <td>\\nimport pandas as pd\\nimport matplotlib.pyplo...</td>\n",
       "      <td>['invite people for the kaggle party']</td>\n",
       "    </tr>\n",
       "    <tr>\n",
       "      <th>1</th>\n",
       "      <td>\\ndf_train = pd.read_csv('../input/train.csv'),</td>\n",
       "      <td>['bring in the six packs']</td>\n",
       "    </tr>\n",
       "    <tr>\n",
       "      <th>2</th>\n",
       "      <td>\\ndf_train.columns,</td>\n",
       "      <td>['check the decoration']</td>\n",
       "    </tr>\n",
       "    <tr>\n",
       "      <th>3</th>\n",
       "      <td>\\ndf_train['SalePrice'].describe(),</td>\n",
       "      <td>['descriptive statistics summary']</td>\n",
       "    </tr>\n",
       "    <tr>\n",
       "      <th>4</th>\n",
       "      <td>\\nsns.distplot(df_train['SalePrice']);,</td>\n",
       "      <td>['histogram']</td>\n",
       "    </tr>\n",
       "  </tbody>\n",
       "</table>\n",
       "</div>"
      ],
      "text/plain": [
       "                                          code_block  \\\n",
       "0  \\nimport pandas as pd\\nimport matplotlib.pyplo...   \n",
       "1    \\ndf_train = pd.read_csv('../input/train.csv'),   \n",
       "2                                \\ndf_train.columns,   \n",
       "3                \\ndf_train['SalePrice'].describe(),   \n",
       "4            \\nsns.distplot(df_train['SalePrice']);,   \n",
       "\n",
       "                                      tag  \n",
       "0  ['invite people for the kaggle party']  \n",
       "1              ['bring in the six packs']  \n",
       "2                ['check the decoration']  \n",
       "3      ['descriptive statistics summary']  \n",
       "4                           ['histogram']  "
      ]
     },
     "execution_count": 9,
     "metadata": {},
     "output_type": "execute_result"
    }
   ],
   "source": [
    "data = pd.read_csv('/home/kirill/Downloads/Telegram Desktop/code_blocks_final.csv', sep='\\t')\n",
    "data.head()"
   ]
  },
  {
   "cell_type": "markdown",
   "metadata": {},
   "source": [
    "Уникальных тегов:"
   ]
  },
  {
   "cell_type": "code",
   "execution_count": 10,
   "metadata": {},
   "outputs": [
    {
     "data": {
      "text/plain": [
       "128808"
      ]
     },
     "execution_count": 10,
     "metadata": {},
     "output_type": "execute_result"
    }
   ],
   "source": [
    "data['tag'].nunique()"
   ]
  },
  {
   "cell_type": "markdown",
   "metadata": {},
   "source": [
    "Размер:"
   ]
  },
  {
   "cell_type": "code",
   "execution_count": 11,
   "metadata": {
    "scrolled": false
   },
   "outputs": [
    {
     "data": {
      "text/plain": [
       "(270661,)"
      ]
     },
     "execution_count": 11,
     "metadata": {},
     "output_type": "execute_result"
    }
   ],
   "source": [
    "data['tag'].shape"
   ]
  },
  {
   "cell_type": "code",
   "execution_count": 12,
   "metadata": {},
   "outputs": [],
   "source": [
    "from collections import Counter\n",
    "from tqdm import tqdm\n",
    "\n",
    "unique_comms = Counter(data['tag']).most_common()"
   ]
  },
  {
   "cell_type": "code",
   "execution_count": 13,
   "metadata": {},
   "outputs": [
    {
     "data": {
      "text/plain": [
       "(270661, 2)"
      ]
     },
     "execution_count": 13,
     "metadata": {},
     "output_type": "execute_result"
    }
   ],
   "source": [
    "data.shape"
   ]
  },
  {
   "cell_type": "code",
   "execution_count": 14,
   "metadata": {},
   "outputs": [
    {
     "name": "stderr",
     "output_type": "stream",
     "text": [
      "100%|██████████| 128809/128809 [51:03<00:00, 42.05it/s] \n"
     ]
    }
   ],
   "source": [
    "all_my_data = pd.DataFrame(columns=['code_block', 'tag'])\n",
    "for comment in tqdm(unique_comms):\n",
    "    uniq_cbs = data[data['tag']==comment[0]]['code_block'].unique()\n",
    "    #print(uniq_cbs)\n",
    "    # data.drop(data[data['tag'] == comment[0]].index, inplace=True)\n",
    "    my_data = pd.DataFrame(\n",
    "        np.array([uniq_cbs, np.repeat(comment[0], len(uniq_cbs))]).T, columns=['code_block', 'tag']\n",
    "    )\n",
    "    #print(my_data)\n",
    "    #if all_my_data.isnull:\n",
    "    #    all_my_data = my_data.copy()\n",
    "    #else:\n",
    "    all_my_data = all_my_data.append(my_data, ignore_index=True)"
   ]
  },
  {
   "cell_type": "code",
   "execution_count": 15,
   "metadata": {},
   "outputs": [],
   "source": [
    "all_my_data.to_csv('code_blocks_final_clean.csv')"
   ]
  },
  {
   "cell_type": "code",
   "execution_count": 16,
   "metadata": {
    "scrolled": true
   },
   "outputs": [],
   "source": [
    "data = all_my_data"
   ]
  },
  {
   "cell_type": "code",
   "execution_count": 72,
   "metadata": {},
   "outputs": [
    {
     "data": {
      "text/html": [
       "<div>\n",
       "<style scoped>\n",
       "    .dataframe tbody tr th:only-of-type {\n",
       "        vertical-align: middle;\n",
       "    }\n",
       "\n",
       "    .dataframe tbody tr th {\n",
       "        vertical-align: top;\n",
       "    }\n",
       "\n",
       "    .dataframe thead th {\n",
       "        text-align: right;\n",
       "    }\n",
       "</style>\n",
       "<table border=\"1\" class=\"dataframe\">\n",
       "  <thead>\n",
       "    <tr style=\"text-align: right;\">\n",
       "      <th></th>\n",
       "      <th>Unnamed: 0</th>\n",
       "      <th>code_block</th>\n",
       "      <th>tag</th>\n",
       "    </tr>\n",
       "  </thead>\n",
       "  <tbody>\n",
       "    <tr>\n",
       "      <th>0</th>\n",
       "      <td>0</td>\n",
       "      <td>from mpl_toolkits.mplot3d import Axes3D\\nfrom ...</td>\n",
       "      <td>[' plotting', ' linear algebra', ' accessing d...</td>\n",
       "    </tr>\n",
       "    <tr>\n",
       "      <th>1</th>\n",
       "      <td>1</td>\n",
       "      <td>from mpl_toolkits.mplot3d import Axes3D\\nfrom ...</td>\n",
       "      <td>[' plotting', ' linear algebra', ' accessing d...</td>\n",
       "    </tr>\n",
       "    <tr>\n",
       "      <th>2</th>\n",
       "      <td>2</td>\n",
       "      <td>from mpl_toolkits.mplot3d import Axes3D\\nfrom ...</td>\n",
       "      <td>[' plotting', ' linear algebra', ' accessing d...</td>\n",
       "    </tr>\n",
       "    <tr>\n",
       "      <th>3</th>\n",
       "      <td>3</td>\n",
       "      <td>from mpl_toolkits.mplot3d import Axes3D\\nfrom ...</td>\n",
       "      <td>[' plotting', ' linear algebra', ' accessing d...</td>\n",
       "    </tr>\n",
       "    <tr>\n",
       "      <th>4</th>\n",
       "      <td>4</td>\n",
       "      <td>from sklearn.preprocessing import StandardScal...</td>\n",
       "      <td>[' plotting', ' linear algebra', ' accessing d...</td>\n",
       "    </tr>\n",
       "    <tr>\n",
       "      <th>...</th>\n",
       "      <td>...</td>\n",
       "      <td>...</td>\n",
       "      <td>...</td>\n",
       "    </tr>\n",
       "    <tr>\n",
       "      <th>221798</th>\n",
       "      <td>221798</td>\n",
       "      <td>\\nclf_list = [('Perceptron', Perceptron(eta0=0...</td>\n",
       "      <td>[' list of classifiers to compare  use some ad...</td>\n",
       "    </tr>\n",
       "    <tr>\n",
       "      <th>221799</th>\n",
       "      <td>221799</td>\n",
       "      <td>def test_set_performances(clf_tuple_list, X_tr...</td>\n",
       "      <td>[' fit each model to training data and form pr...</td>\n",
       "    </tr>\n",
       "    <tr>\n",
       "      <th>221800</th>\n",
       "      <td>221800</td>\n",
       "      <td>\\nmodel_names, test_acc, test_f1 = test_set_pe...</td>\n",
       "      <td>[' obtain accuracy and f1 metrics and print fo...</td>\n",
       "    </tr>\n",
       "    <tr>\n",
       "      <th>221801</th>\n",
       "      <td>221801</td>\n",
       "      <td>def plot_confusion_matrix(true_y, pred_y, titl...</td>\n",
       "      <td>91 plot a confusion matrix for our trained model</td>\n",
       "    </tr>\n",
       "    <tr>\n",
       "      <th>221802</th>\n",
       "      <td>221802</td>\n",
       "      <td>\\ngb_clf = GradientBoostingClassifier()\\ngb_cl...</td>\n",
       "      <td>[' create a log reg classifier and predict usi...</td>\n",
       "    </tr>\n",
       "  </tbody>\n",
       "</table>\n",
       "<p>221803 rows × 3 columns</p>\n",
       "</div>"
      ],
      "text/plain": [
       "        Unnamed: 0                                         code_block  \\\n",
       "0                0  from mpl_toolkits.mplot3d import Axes3D\\nfrom ...   \n",
       "1                1  from mpl_toolkits.mplot3d import Axes3D\\nfrom ...   \n",
       "2                2  from mpl_toolkits.mplot3d import Axes3D\\nfrom ...   \n",
       "3                3  from mpl_toolkits.mplot3d import Axes3D\\nfrom ...   \n",
       "4                4  from sklearn.preprocessing import StandardScal...   \n",
       "...            ...                                                ...   \n",
       "221798      221798  \\nclf_list = [('Perceptron', Perceptron(eta0=0...   \n",
       "221799      221799  def test_set_performances(clf_tuple_list, X_tr...   \n",
       "221800      221800  \\nmodel_names, test_acc, test_f1 = test_set_pe...   \n",
       "221801      221801  def plot_confusion_matrix(true_y, pred_y, titl...   \n",
       "221802      221802  \\ngb_clf = GradientBoostingClassifier()\\ngb_cl...   \n",
       "\n",
       "                                                      tag  \n",
       "0       [' plotting', ' linear algebra', ' accessing d...  \n",
       "1       [' plotting', ' linear algebra', ' accessing d...  \n",
       "2       [' plotting', ' linear algebra', ' accessing d...  \n",
       "3       [' plotting', ' linear algebra', ' accessing d...  \n",
       "4       [' plotting', ' linear algebra', ' accessing d...  \n",
       "...                                                   ...  \n",
       "221798  [' list of classifiers to compare  use some ad...  \n",
       "221799  [' fit each model to training data and form pr...  \n",
       "221800  [' obtain accuracy and f1 metrics and print fo...  \n",
       "221801   91 plot a confusion matrix for our trained model  \n",
       "221802  [' create a log reg classifier and predict usi...  \n",
       "\n",
       "[221803 rows x 3 columns]"
      ]
     },
     "execution_count": 72,
     "metadata": {},
     "output_type": "execute_result"
    }
   ],
   "source": [
    "data = pd.read_csv('code_blocks_final_clean.csv')\n",
    "data"
   ]
  },
  {
   "cell_type": "code",
   "execution_count": 76,
   "metadata": {},
   "outputs": [
    {
     "data": {
      "text/plain": [
       "(221803, 3)"
      ]
     },
     "execution_count": 76,
     "metadata": {},
     "output_type": "execute_result"
    }
   ],
   "source": [
    "data.shape"
   ]
  },
  {
   "cell_type": "code",
   "execution_count": 78,
   "metadata": {},
   "outputs": [],
   "source": [
    "data = data.drop(columns='Unnamed: 0', axis=1)"
   ]
  },
  {
   "cell_type": "markdown",
   "metadata": {},
   "source": [
    "### Удаление стоп-слов, стемминг, оставляем по одному комментарию"
   ]
  },
  {
   "cell_type": "code",
   "execution_count": 79,
   "metadata": {},
   "outputs": [],
   "source": [
    "# from nltk import download\n",
    "# download('stopwords')\n",
    "\n",
    "# import nltk\n",
    "# nltk.download('wordnet')\n",
    "\n",
    "#import nltk\n",
    "#nltk.download('punkt')\n",
    "\n",
    "# import nltk\n",
    "# nltk.download('averaged_perceptron_tagger')"
   ]
  },
  {
   "cell_type": "code",
   "execution_count": 80,
   "metadata": {},
   "outputs": [],
   "source": [
    "from nltk.stem.snowball import SnowballStemmer \n",
    "from nltk.stem.wordnet import WordNetLemmatizer\n",
    "from nltk.corpus import stopwords"
   ]
  },
  {
   "cell_type": "code",
   "execution_count": 81,
   "metadata": {},
   "outputs": [],
   "source": [
    "st_wr = set(stopwords.words('english'))"
   ]
  },
  {
   "cell_type": "code",
   "execution_count": 82,
   "metadata": {},
   "outputs": [],
   "source": [
    "ex_str = 'kirill eats grass on the floors, long word endings, churches'"
   ]
  },
  {
   "cell_type": "markdown",
   "metadata": {},
   "source": [
    "lemmatizer thx to \n",
    "\n",
    "https://medium.com/@gaurav5430/using-nltk-for-lemmatizing-sentences-c1bfff963258 \n",
    "\n",
    "(left a clap):"
   ]
  },
  {
   "cell_type": "code",
   "execution_count": 83,
   "metadata": {
    "scrolled": true
   },
   "outputs": [
    {
     "data": {
      "text/plain": [
       "'kirill eat grass on the floor , long word ending , church'"
      ]
     },
     "execution_count": 83,
     "metadata": {},
     "output_type": "execute_result"
    }
   ],
   "source": [
    "import nltk\n",
    "from nltk.corpus import wordnet\n",
    "\n",
    "wnl = WordNetLemmatizer()\n",
    "\n",
    "# function to convert nltk tag to wordnet tag\n",
    "def nltk_tag_to_wordnet_tag(nltk_tag):\n",
    "    if nltk_tag.startswith('J'):\n",
    "        return wordnet.ADJ\n",
    "    elif nltk_tag.startswith('V'):\n",
    "        return wordnet.VERB\n",
    "    elif nltk_tag.startswith('N'):\n",
    "        return wordnet.NOUN\n",
    "    elif nltk_tag.startswith('R'):\n",
    "        return wordnet.ADV\n",
    "    else:          \n",
    "        return None\n",
    "\n",
    "def lemmatize_sentence(lemmatizer, sentence):\n",
    "    #tokenize the sentence and find the POS tag for each token\n",
    "    nltk_tagged = nltk.pos_tag(nltk.word_tokenize(sentence))  \n",
    "    #tuple of (token, wordnet_tag)\n",
    "    wordnet_tagged = map(lambda x: (x[0], nltk_tag_to_wordnet_tag(x[1])), nltk_tagged)\n",
    "    lemmatized_sentence = []\n",
    "    for word, tag in wordnet_tagged:\n",
    "        if tag is None:\n",
    "            #if there is no available tag, append the token as is\n",
    "            lemmatized_sentence.append(word)\n",
    "        else:        \n",
    "            #else use the tag to lemmatize the token\n",
    "            lemmatized_sentence.append(lemmatizer.lemmatize(word, tag))\n",
    "    return \" \".join(lemmatized_sentence)\n",
    "\n",
    "lemmatize_sentence(wnl, ex_str)"
   ]
  },
  {
   "cell_type": "code",
   "execution_count": 84,
   "metadata": {},
   "outputs": [
    {
     "data": {
      "text/plain": [
       "'kirill eats grass on the floors, long word endings, church'"
      ]
     },
     "execution_count": 84,
     "metadata": {},
     "output_type": "execute_result"
    }
   ],
   "source": [
    "stemmer = SnowballStemmer('english')\n",
    "stemmer.stem(ex_str)"
   ]
  },
  {
   "cell_type": "markdown",
   "metadata": {},
   "source": [
    "**Важно:** если у вас в табличке есть колонка 'Unnamed 0:' или вообще какая то лишняя, то дропайте ее до этого цикла (почему-то это сильно влияет на производительность)"
   ]
  },
  {
   "cell_type": "markdown",
   "metadata": {},
   "source": [
    "Тут из нескольких комментариев выбирается самый короткий (обосновано тем, что тогда он с большей вероятностью встречается часто ака больше похож на метку). Отсекаются пробелы и всякие пустые метки."
   ]
  },
  {
   "cell_type": "code",
   "execution_count": 85,
   "metadata": {},
   "outputs": [],
   "source": [
    "import re\n",
    "def clear_tag(tag):\n",
    "    ready_tag = tag.replace('_', ' ')\n",
    "    ready_tag = re.sub('[^A-Za-z0-9 ]+', '', ready_tag)\n",
    "    ready_tag = ready_tag.strip()                    # removes spaces in the start and in the end\n",
    "    ready_tag = ready_tag.replace(' ', '_')\n",
    "    return ready_tag # replace spaces with \"_\" and removes other punctuation"
   ]
  },
  {
   "cell_type": "code",
   "execution_count": 86,
   "metadata": {},
   "outputs": [],
   "source": [
    "from tqdm import tqdm\n",
    "all_to_del = set(['', \"['']\", ' ', '  ', \"[' ']\", '        ', '     ', '    ', '   ', \"['', ' ']\", '       ', '      ', \\\n",
    "             '             ', '         ', '          ', \"']\",\\\n",
    "                 \"['   \", \"['\", \"[' \", \"['  \", \"['    \", \"['    \"])\n",
    "rows_to_del = []"
   ]
  },
  {
   "cell_type": "markdown",
   "metadata": {},
   "source": [
    "### Режем по длинне метки:"
   ]
  },
  {
   "cell_type": "markdown",
   "metadata": {},
   "source": [
    "Здесь проверка, чтобы не было копипаста, потому что комментарий длиннее 95% всех меток (ака ~200 символов) совпавший так много раз явно коппаст:"
   ]
  },
  {
   "cell_type": "markdown",
   "metadata": {},
   "source": [
    "В среднем слов:"
   ]
  },
  {
   "cell_type": "code",
   "execution_count": 95,
   "metadata": {},
   "outputs": [
    {
     "data": {
      "text/plain": [
       "3.5781131821772525"
      ]
     },
     "execution_count": 95,
     "metadata": {},
     "output_type": "execute_result"
    }
   ],
   "source": [
    "data['tag'].str.split('_').str.len().sum() / data.shape[0]"
   ]
  },
  {
   "cell_type": "markdown",
   "metadata": {},
   "source": [
    "95-ые квантили:"
   ]
  },
  {
   "cell_type": "code",
   "execution_count": 96,
   "metadata": {},
   "outputs": [
    {
     "data": {
      "text/plain": [
       "58.0"
      ]
     },
     "execution_count": 96,
     "metadata": {},
     "output_type": "execute_result"
    }
   ],
   "source": [
    "np.quantile(data['tag'].str.len(), 0.95)"
   ]
  },
  {
   "cell_type": "code",
   "execution_count": 97,
   "metadata": {},
   "outputs": [
    {
     "data": {
      "text/plain": [
       "9.0"
      ]
     },
     "execution_count": 97,
     "metadata": {},
     "output_type": "execute_result"
    }
   ],
   "source": [
    "np.quantile(data['tag'].str.split('_').str.len(), 0.95)"
   ]
  },
  {
   "cell_type": "code",
   "execution_count": 87,
   "metadata": {
    "scrolled": true
   },
   "outputs": [
    {
     "name": "stderr",
     "output_type": "stream",
     "text": [
      "100%|██████████| 221803/221803 [03:04<00:00, 1200.36it/s]\n"
     ]
    }
   ],
   "source": [
    "for i in tqdm(range(data.shape[0])):\n",
    "    my_string = data.loc[i, 'tag']\n",
    "    \n",
    "    if (my_string is not np.nan) and my_string is not None:\n",
    "        \n",
    "        min_len = len(data.loc[i, 'tag']) + 10\n",
    "        min_el = None\n",
    "        s = set(list(map(str, my_string.split(\"', '\"))))\n",
    "        \n",
    "        for el in s:\n",
    "            \n",
    "            # getting rid of punctuation, spaces, adding \"_\"\n",
    "            el = clear_tag(el)\n",
    "            \n",
    "            if el not in all_to_del and el is not None and len(el) < 100:\n",
    "                \n",
    "                # getting rid of stop words\n",
    "                el = [w.lower() for w in el.split('_') if w.lower() not in st_wr]\n",
    "                el = '_'.join(el)\n",
    "                \n",
    "                # stemming \n",
    "                el = stemmer.stem(el)\n",
    "                \n",
    "                # lemmatizing\n",
    "                el = lemmatize_sentence(wnl, el)\n",
    "                \n",
    "                #if min_el is None:\n",
    "                #    min_el = el\n",
    "                #else:\n",
    "                #    min_el = min_el + '_' + el\n",
    "                \n",
    "                if len(el) < min_len:\n",
    "                    min_len = len(el)\n",
    "                    min_el = el\n",
    "\n",
    "        if min_el is not None:\n",
    "            data.loc[i, 'tag'] = min_el\n",
    "        else:\n",
    "            rows_to_del.append(i)\n",
    "    else:\n",
    "        rows_to_del.append(i)"
   ]
  },
  {
   "cell_type": "markdown",
   "metadata": {},
   "source": [
    "Было:"
   ]
  },
  {
   "cell_type": "code",
   "execution_count": 88,
   "metadata": {
    "scrolled": true
   },
   "outputs": [
    {
     "data": {
      "text/plain": [
       "(221803, 2)"
      ]
     },
     "execution_count": 88,
     "metadata": {},
     "output_type": "execute_result"
    }
   ],
   "source": [
    "data.shape"
   ]
  },
  {
   "cell_type": "code",
   "execution_count": 89,
   "metadata": {
    "scrolled": true
   },
   "outputs": [],
   "source": [
    "data = data.drop(rows_to_del)"
   ]
  },
  {
   "cell_type": "markdown",
   "metadata": {},
   "source": [
    "Осталось:"
   ]
  },
  {
   "cell_type": "code",
   "execution_count": 90,
   "metadata": {
    "scrolled": true
   },
   "outputs": [
    {
     "data": {
      "text/plain": [
       "(178782, 2)"
      ]
     },
     "execution_count": 90,
     "metadata": {},
     "output_type": "execute_result"
    }
   ],
   "source": [
    "data.shape"
   ]
  },
  {
   "cell_type": "code",
   "execution_count": 91,
   "metadata": {},
   "outputs": [],
   "source": [
    "data = data.reset_index()"
   ]
  },
  {
   "cell_type": "code",
   "execution_count": 92,
   "metadata": {},
   "outputs": [
    {
     "data": {
      "text/html": [
       "<div>\n",
       "<style scoped>\n",
       "    .dataframe tbody tr th:only-of-type {\n",
       "        vertical-align: middle;\n",
       "    }\n",
       "\n",
       "    .dataframe tbody tr th {\n",
       "        vertical-align: top;\n",
       "    }\n",
       "\n",
       "    .dataframe thead th {\n",
       "        text-align: right;\n",
       "    }\n",
       "</style>\n",
       "<table border=\"1\" class=\"dataframe\">\n",
       "  <thead>\n",
       "    <tr style=\"text-align: right;\">\n",
       "      <th></th>\n",
       "      <th>code_block</th>\n",
       "      <th>tag</th>\n",
       "    </tr>\n",
       "  </thead>\n",
       "  <tbody>\n",
       "    <tr>\n",
       "      <th>0</th>\n",
       "      <td>from mpl_toolkits.mplot3d import Axes3D\\nfrom ...</td>\n",
       "      <td>plot</td>\n",
       "    </tr>\n",
       "    <tr>\n",
       "      <th>1</th>\n",
       "      <td>from mpl_toolkits.mplot3d import Axes3D\\nfrom ...</td>\n",
       "      <td>plot</td>\n",
       "    </tr>\n",
       "    <tr>\n",
       "      <th>2</th>\n",
       "      <td>from mpl_toolkits.mplot3d import Axes3D\\nfrom ...</td>\n",
       "      <td>plot</td>\n",
       "    </tr>\n",
       "    <tr>\n",
       "      <th>3</th>\n",
       "      <td>from mpl_toolkits.mplot3d import Axes3D\\nfrom ...</td>\n",
       "      <td>plot</td>\n",
       "    </tr>\n",
       "    <tr>\n",
       "      <th>4</th>\n",
       "      <td>from sklearn.preprocessing import StandardScal...</td>\n",
       "      <td>plot</td>\n",
       "    </tr>\n",
       "  </tbody>\n",
       "</table>\n",
       "</div>"
      ],
      "text/plain": [
       "                                          code_block   tag\n",
       "0  from mpl_toolkits.mplot3d import Axes3D\\nfrom ...  plot\n",
       "1  from mpl_toolkits.mplot3d import Axes3D\\nfrom ...  plot\n",
       "2  from mpl_toolkits.mplot3d import Axes3D\\nfrom ...  plot\n",
       "3  from mpl_toolkits.mplot3d import Axes3D\\nfrom ...  plot\n",
       "4  from sklearn.preprocessing import StandardScal...  plot"
      ]
     },
     "execution_count": 92,
     "metadata": {},
     "output_type": "execute_result"
    }
   ],
   "source": [
    "data.drop(columns=['index'], axis=1, inplace=True)\n",
    "data.head()"
   ]
  },
  {
   "cell_type": "markdown",
   "metadata": {},
   "source": [
    "________"
   ]
  },
  {
   "cell_type": "markdown",
   "metadata": {},
   "source": [
    "### Предобработка текста"
   ]
  },
  {
   "cell_type": "code",
   "execution_count": 100,
   "metadata": {},
   "outputs": [],
   "source": [
    "data = data[data['tag'] != '']\n",
    "data = data[data['tag'] != '_']\n",
    "data = data[data['tag'] != '__']\n",
    "data = data[data['tag'] != '___']\n",
    "data = data[data['tag'] != '____']\n",
    "data = data[data['tag'] != '_____']"
   ]
  },
  {
   "cell_type": "markdown",
   "metadata": {},
   "source": [
    "Осталось уже:"
   ]
  },
  {
   "cell_type": "code",
   "execution_count": 101,
   "metadata": {},
   "outputs": [
    {
     "data": {
      "text/plain": [
       "(178491, 2)"
      ]
     },
     "execution_count": 101,
     "metadata": {},
     "output_type": "execute_result"
    }
   ],
   "source": [
    "data.shape"
   ]
  },
  {
   "cell_type": "markdown",
   "metadata": {},
   "source": [
    "_____________"
   ]
  },
  {
   "cell_type": "code",
   "execution_count": 102,
   "metadata": {
    "scrolled": true
   },
   "outputs": [
    {
     "name": "stdout",
     "output_type": "stream",
     "text": [
      "(178491, 2)\n",
      "70994\n"
     ]
    }
   ],
   "source": [
    "print(data.shape)\n",
    "print(data['tag'].nunique())"
   ]
  },
  {
   "cell_type": "markdown",
   "metadata": {},
   "source": [
    "Дальше часть скипается вплоть до разделения на трейн-тест-вал!"
   ]
  },
  {
   "cell_type": "markdown",
   "metadata": {},
   "source": [
    "### Оставим какие-то самые популярные метки"
   ]
  },
  {
   "cell_type": "markdown",
   "metadata": {},
   "source": [
    "Из самых популярных 5к меток выкину варианты длиннее n"
   ]
  },
  {
   "cell_type": "code",
   "execution_count": 103,
   "metadata": {},
   "outputs": [
    {
     "data": {
      "text/plain": [
       "70994"
      ]
     },
     "execution_count": 103,
     "metadata": {},
     "output_type": "execute_result"
    }
   ],
   "source": [
    "data['tag'].nunique()"
   ]
  },
  {
   "cell_type": "code",
   "execution_count": 104,
   "metadata": {},
   "outputs": [],
   "source": [
    "from collections import Counter\n",
    "\n",
    "mc = Counter(data['tag']).most_common(5000)"
   ]
  },
  {
   "cell_type": "code",
   "execution_count": 105,
   "metadata": {},
   "outputs": [],
   "source": [
    "strange_to_del = []"
   ]
  },
  {
   "cell_type": "markdown",
   "metadata": {},
   "source": [
    "Это работает не очень "
   ]
  },
  {
   "cell_type": "markdown",
   "metadata": {},
   "source": [
    "Если уникальных блоков кода с этим комментарием меньше 75 (естественно стоит эту константу пробовать менять), то удалим эту метку тк это скорее всего копипаст:"
   ]
  },
  {
   "cell_type": "markdown",
   "metadata": {},
   "source": [
    "Так делаем среди самых популярных 5к тегов чтобы не тратить время на совсем не популярные метки"
   ]
  },
  {
   "cell_type": "code",
   "execution_count": 106,
   "metadata": {},
   "outputs": [
    {
     "name": "stderr",
     "output_type": "stream",
     "text": [
      "100%|██████████| 5000/5000 [00:42<00:00, 118.07it/s]\n"
     ]
    }
   ],
   "source": [
    "for el in tqdm(mc):\n",
    "    if data[data['tag']==el[0]]['code_block'].nunique() < 75:\n",
    "        strange_to_del.append(el[0])"
   ]
  },
  {
   "cell_type": "code",
   "execution_count": 107,
   "metadata": {},
   "outputs": [
    {
     "name": "stderr",
     "output_type": "stream",
     "text": [
      "100%|██████████| 4905/4905 [01:31<00:00, 53.86it/s]\n"
     ]
    }
   ],
   "source": [
    "for el in tqdm(strange_to_del):\n",
    "    data = data[data['tag'] != el]"
   ]
  },
  {
   "cell_type": "markdown",
   "metadata": {},
   "source": [
    "Здесь естественно теряется много данных:"
   ]
  },
  {
   "cell_type": "code",
   "execution_count": 108,
   "metadata": {},
   "outputs": [
    {
     "name": "stdout",
     "output_type": "stream",
     "text": [
      "(118646, 2)\n",
      "66089\n"
     ]
    }
   ],
   "source": [
    "print(data.shape)\n",
    "print(data['tag'].nunique())"
   ]
  },
  {
   "cell_type": "markdown",
   "metadata": {},
   "source": [
    "Заметим, что выкинули 4940 меток из самых популярных 5000, оставим 30 самых популярных:"
   ]
  },
  {
   "cell_type": "markdown",
   "metadata": {},
   "source": [
    "Ниже"
   ]
  },
  {
   "cell_type": "code",
   "execution_count": 110,
   "metadata": {},
   "outputs": [
    {
     "data": {
      "text/plain": [
       "[('specify_none_want_read_whole_fil', 2403),\n",
       " ('linear_algebra', 1864),\n",
       " ('model', 1224),\n",
       " ('check_answ', 702),\n",
       " ('predict', 673),\n",
       " ('train', 605),\n",
       " ('load_data', 516),\n",
       " ('plot', 513),\n",
       " ('visual', 487),\n",
       " ('preprocess', 462),\n",
       " ('code', 430),\n",
       " ('submiss', 406),\n",
       " ('feature_engin', 399),\n",
       " ('random_forest', 395),\n",
       " ('test', 391),\n",
       " ('import', 345),\n",
       " ('eda', 342),\n",
       " ('data_preprocess', 320),\n",
       " ('data_clean', 303),\n",
       " ('train_model', 289),\n",
       " ('xgboost', 287),\n",
       " ('data_visu', 285),\n",
       " ('logistic_regress', 284),\n",
       " ('model_build', 274),\n",
       " ('importing_librari', 254),\n",
       " ('data', 253),\n",
       " ('read_data', 248),\n",
       " ('import_librari', 222),\n",
       " ('uncom', 217),\n",
       " ('exploratory_data_analysi', 217),\n",
       " ('fit_model', 211),\n",
       " ('loading_data', 210),\n",
       " ('decision_tre', 199),\n",
       " ('1', 194),\n",
       " ('normal', 181),\n",
       " ('data_explor', 179),\n",
       " ('create_x', 176),\n",
       " ('reading_data', 175),\n",
       " ('linear_regress', 173),\n",
       " ('librari', 172),\n",
       " ('input', 171),\n",
       " ('fit_rfmodelonfulldata_data_training_data', 170),\n",
       " ('evalu', 162),\n",
       " ('training_model', 161),\n",
       " ('titl', 160),\n",
       " ('confusion_matrix', 153),\n",
       " ('train_test_split', 150),\n",
       " ('importing_data', 148),\n",
       " ('result', 148),\n",
       " ('data_load', 145)]"
      ]
     },
     "execution_count": 110,
     "metadata": {},
     "output_type": "execute_result"
    }
   ],
   "source": [
    "Counter(data['tag']).most_common(50)"
   ]
  },
  {
   "cell_type": "code",
   "execution_count": 111,
   "metadata": {},
   "outputs": [],
   "source": [
    "# all_to_del - задан вначале ноутбука"
   ]
  },
  {
   "cell_type": "code",
   "execution_count": 112,
   "metadata": {},
   "outputs": [],
   "source": [
    "for to_del in all_to_del:\n",
    "    data = data[data['tag'] != to_del]"
   ]
  },
  {
   "cell_type": "code",
   "execution_count": 135,
   "metadata": {},
   "outputs": [
    {
     "name": "stdout",
     "output_type": "stream",
     "text": [
      "(19048, 2)\n",
      "50\n"
     ]
    }
   ],
   "source": [
    "print(data.shape)\n",
    "print(data['tag'].nunique())"
   ]
  },
  {
   "cell_type": "code",
   "execution_count": 137,
   "metadata": {},
   "outputs": [
    {
     "data": {
      "text/plain": [
       "25"
      ]
     },
     "execution_count": 137,
     "metadata": {},
     "output_type": "execute_result"
    }
   ],
   "source": [
    "num_tags_to_drop = data['tag'].nunique() - 50\n",
    "num_tags_to_drop"
   ]
  },
  {
   "cell_type": "markdown",
   "metadata": {},
   "source": [
    "Выкидываю самые непопулярные (nunique - 50) меток:"
   ]
  },
  {
   "cell_type": "code",
   "execution_count": 138,
   "metadata": {},
   "outputs": [],
   "source": [
    "least_c_tags = set(Counter(data['tag']).most_common()[-num_tags_to_drop:])"
   ]
  },
  {
   "cell_type": "code",
   "execution_count": 139,
   "metadata": {},
   "outputs": [
    {
     "name": "stderr",
     "output_type": "stream",
     "text": [
      "100%|██████████| 25/25 [00:00<00:00, 405.51it/s]\n"
     ]
    }
   ],
   "source": [
    "for el in tqdm(least_c_tags):\n",
    "    data = data[data['tag'] != el[0]]"
   ]
  },
  {
   "cell_type": "markdown",
   "metadata": {},
   "source": [
    "Смотрим что осталось:"
   ]
  },
  {
   "cell_type": "code",
   "execution_count": 117,
   "metadata": {},
   "outputs": [
    {
     "name": "stdout",
     "output_type": "stream",
     "text": [
      "(19048, 2)\n",
      "50\n"
     ]
    }
   ],
   "source": [
    "print(data.shape)\n",
    "print(data['tag'].nunique())"
   ]
  },
  {
   "cell_type": "code",
   "execution_count": 118,
   "metadata": {},
   "outputs": [],
   "source": [
    "ready_data = \\\n",
    "data.reset_index().drop(columns=['index'], axis=1)\n",
    "#ready_data = ready_data.drop(columns=['level_0'], axis=1)"
   ]
  },
  {
   "cell_type": "code",
   "execution_count": 119,
   "metadata": {},
   "outputs": [],
   "source": [
    "mc = Counter(ready_data['tag']).most_common()"
   ]
  },
  {
   "cell_type": "code",
   "execution_count": 120,
   "metadata": {},
   "outputs": [],
   "source": [
    "with open(\"most_common_50_1.txt\", 'w') as output:\n",
    "    for row in mc:\n",
    "        output.write(str(row) + '\\n')"
   ]
  },
  {
   "cell_type": "code",
   "execution_count": 121,
   "metadata": {},
   "outputs": [
    {
     "data": {
      "text/plain": [
       "[('specify_none_want_read_whole_fil', 2403),\n",
       " ('linear_algebra', 1864),\n",
       " ('model', 1224),\n",
       " ('check_answ', 702),\n",
       " ('predict', 673),\n",
       " ('train', 605),\n",
       " ('load_data', 516),\n",
       " ('plot', 513),\n",
       " ('visual', 487),\n",
       " ('preprocess', 462),\n",
       " ('code', 430),\n",
       " ('submiss', 406),\n",
       " ('feature_engin', 399),\n",
       " ('random_forest', 395),\n",
       " ('test', 391),\n",
       " ('import', 345),\n",
       " ('eda', 342),\n",
       " ('data_preprocess', 320),\n",
       " ('data_clean', 303),\n",
       " ('train_model', 289),\n",
       " ('xgboost', 287),\n",
       " ('data_visu', 285),\n",
       " ('logistic_regress', 284),\n",
       " ('model_build', 274),\n",
       " ('importing_librari', 254),\n",
       " ('data', 253),\n",
       " ('read_data', 248),\n",
       " ('import_librari', 222),\n",
       " ('uncom', 217),\n",
       " ('exploratory_data_analysi', 217),\n",
       " ('fit_model', 211),\n",
       " ('loading_data', 210),\n",
       " ('decision_tre', 199),\n",
       " ('1', 194),\n",
       " ('normal', 181),\n",
       " ('data_explor', 179),\n",
       " ('create_x', 176),\n",
       " ('reading_data', 175),\n",
       " ('linear_regress', 173),\n",
       " ('librari', 172),\n",
       " ('input', 171),\n",
       " ('fit_rfmodelonfulldata_data_training_data', 170),\n",
       " ('evalu', 162),\n",
       " ('training_model', 161),\n",
       " ('titl', 160),\n",
       " ('confusion_matrix', 153),\n",
       " ('train_test_split', 150),\n",
       " ('importing_data', 148),\n",
       " ('result', 148),\n",
       " ('data_load', 145)]"
      ]
     },
     "execution_count": 121,
     "metadata": {},
     "output_type": "execute_result"
    }
   ],
   "source": [
    "mc"
   ]
  },
  {
   "cell_type": "markdown",
   "metadata": {},
   "source": [
    "На данном этапе все работает очень плохо, поэтому давайте попробуем руками с метками поработать..."
   ]
  },
  {
   "cell_type": "code",
   "execution_count": 140,
   "metadata": {},
   "outputs": [
    {
     "data": {
      "text/plain": [
       "array(['plot', 'linear_algebra', 'model', 'check_answ', 'load_data',\n",
       "       'train', 'exploratory_data_analysi', 'predict', 'import_librari',\n",
       "       'visual'], dtype=object)"
      ]
     },
     "execution_count": 140,
     "metadata": {},
     "output_type": "execute_result"
    }
   ],
   "source": [
    "ready_data['tag'].unique()"
   ]
  },
  {
   "cell_type": "code",
   "execution_count": 124,
   "metadata": {},
   "outputs": [],
   "source": [
    "jut_inds = ready_data[ready_data['tag'] == 'specify_none_want_read_whole_fil'].index\n",
    "ready_data.drop(index=jut_inds, axis=0, inplace=True)\n",
    "jut_inds = ready_data[ready_data['tag'] == 'create_x'].index\n",
    "ready_data.drop(index=jut_inds, axis=0, inplace=True)\n",
    "jut_inds = ready_data[ready_data['tag'] == 'uncom'].index\n",
    "ready_data.drop(index=jut_inds, axis=0, inplace=True)\n",
    "\n",
    "\n",
    "\n",
    "ready_data.loc[ready_data['tag'] == 'data_preprocessing', 'tag'] = 'preprocessing'\n",
    "ready_data.loc[ready_data['tag'] == 'data_load', 'tag'] = 'load_data'\n",
    "ready_data.loc[ready_data['tag'] == 'data', 'tag'] = 'load_data'\n",
    "ready_data.loc[ready_data['tag'] == 'importing_data', 'tag'] = 'load_data'\n",
    "ready_data.loc[ready_data['tag'] == 'reading_data', 'tag'] = 'load_data'\n",
    "ready_data.loc[ready_data['tag'] == 'eda', 'tag'] = 'exploratory_data_analysi'\n",
    "ready_data.loc[ready_data['tag'] == 'data_explor', 'tag'] = 'exploratory_data_analysi'\n",
    "\n"
   ]
  },
  {
   "cell_type": "code",
   "execution_count": 127,
   "metadata": {},
   "outputs": [],
   "source": [
    "jut_inds = ready_data[ready_data['tag'] == 'code'].index\n",
    "ready_data.drop(index=jut_inds, axis=0, inplace=True)\n",
    "jut_inds = ready_data[ready_data['tag'] == '1'].index\n",
    "ready_data.drop(index=jut_inds, axis=0, inplace=True)\n",
    "\n",
    "ready_data.loc[ready_data['tag'] == 'importing_librari', 'tag'] = 'import_librari'\n",
    "ready_data.loc[ready_data['tag'] == 'import', 'tag'] = 'import_librari'\n",
    "ready_data.loc[ready_data['tag'] == 'librari', 'tag'] = 'import_librari'\n",
    "ready_data.loc[ready_data['tag'] == 'training_model', 'tag'] = 'import_librari'\n"
   ]
  },
  {
   "cell_type": "code",
   "execution_count": 131,
   "metadata": {},
   "outputs": [],
   "source": [
    "mc = Counter(ready_data['tag']).most_common()"
   ]
  },
  {
   "cell_type": "code",
   "execution_count": 132,
   "metadata": {},
   "outputs": [],
   "source": [
    "with open(\"most_common_50_2.txt\", 'w') as output:\n",
    "    for row in mc:\n",
    "        output.write(str(row) + '\\n')"
   ]
  },
  {
   "cell_type": "code",
   "execution_count": 141,
   "metadata": {},
   "outputs": [
    {
     "data": {
      "text/html": [
       "<div>\n",
       "<style scoped>\n",
       "    .dataframe tbody tr th:only-of-type {\n",
       "        vertical-align: middle;\n",
       "    }\n",
       "\n",
       "    .dataframe tbody tr th {\n",
       "        vertical-align: top;\n",
       "    }\n",
       "\n",
       "    .dataframe thead th {\n",
       "        text-align: right;\n",
       "    }\n",
       "</style>\n",
       "<table border=\"1\" class=\"dataframe\">\n",
       "  <thead>\n",
       "    <tr style=\"text-align: right;\">\n",
       "      <th></th>\n",
       "      <th>code_block</th>\n",
       "      <th>tag</th>\n",
       "    </tr>\n",
       "  </thead>\n",
       "  <tbody>\n",
       "    <tr>\n",
       "      <th>0</th>\n",
       "      <td>from mpl_toolkits.mplot3d import Axes3D\\nfrom ...</td>\n",
       "      <td>plot</td>\n",
       "    </tr>\n",
       "    <tr>\n",
       "      <th>1</th>\n",
       "      <td>from mpl_toolkits.mplot3d import Axes3D\\nfrom ...</td>\n",
       "      <td>plot</td>\n",
       "    </tr>\n",
       "    <tr>\n",
       "      <th>2</th>\n",
       "      <td>from mpl_toolkits.mplot3d import Axes3D\\nfrom ...</td>\n",
       "      <td>plot</td>\n",
       "    </tr>\n",
       "    <tr>\n",
       "      <th>3</th>\n",
       "      <td>from mpl_toolkits.mplot3d import Axes3D\\nfrom ...</td>\n",
       "      <td>plot</td>\n",
       "    </tr>\n",
       "    <tr>\n",
       "      <th>4</th>\n",
       "      <td>from sklearn.preprocessing import StandardScal...</td>\n",
       "      <td>plot</td>\n",
       "    </tr>\n",
       "    <tr>\n",
       "      <th>...</th>\n",
       "      <td>...</td>\n",
       "      <td>...</td>\n",
       "    </tr>\n",
       "    <tr>\n",
       "      <th>19036</th>\n",
       "      <td>df3=df[df.columns]\\nimport warnings  \\nwarning...</td>\n",
       "      <td>load_data</td>\n",
       "    </tr>\n",
       "    <tr>\n",
       "      <th>19038</th>\n",
       "      <td>\\nimport numpy as np \\nimport pandas as pd \\ni...</td>\n",
       "      <td>linear_algebra</td>\n",
       "    </tr>\n",
       "    <tr>\n",
       "      <th>19041</th>\n",
       "      <td>\\nimport numpy as np \\nimport pandas as pd \\ni...</td>\n",
       "      <td>linear_algebra</td>\n",
       "    </tr>\n",
       "    <tr>\n",
       "      <th>19042</th>\n",
       "      <td>\\nimport numpy as np \\nimport pandas as pd \\ni...</td>\n",
       "      <td>linear_algebra</td>\n",
       "    </tr>\n",
       "    <tr>\n",
       "      <th>19045</th>\n",
       "      <td>\\nimport numpy as np \\nimport pandas as pd \\ni...</td>\n",
       "      <td>linear_algebra</td>\n",
       "    </tr>\n",
       "  </tbody>\n",
       "</table>\n",
       "<p>9197 rows × 2 columns</p>\n",
       "</div>"
      ],
      "text/plain": [
       "                                              code_block             tag\n",
       "0      from mpl_toolkits.mplot3d import Axes3D\\nfrom ...            plot\n",
       "1      from mpl_toolkits.mplot3d import Axes3D\\nfrom ...            plot\n",
       "2      from mpl_toolkits.mplot3d import Axes3D\\nfrom ...            plot\n",
       "3      from mpl_toolkits.mplot3d import Axes3D\\nfrom ...            plot\n",
       "4      from sklearn.preprocessing import StandardScal...            plot\n",
       "...                                                  ...             ...\n",
       "19036  df3=df[df.columns]\\nimport warnings  \\nwarning...       load_data\n",
       "19038  \\nimport numpy as np \\nimport pandas as pd \\ni...  linear_algebra\n",
       "19041  \\nimport numpy as np \\nimport pandas as pd \\ni...  linear_algebra\n",
       "19042  \\nimport numpy as np \\nimport pandas as pd \\ni...  linear_algebra\n",
       "19045  \\nimport numpy as np \\nimport pandas as pd \\ni...  linear_algebra\n",
       "\n",
       "[9197 rows x 2 columns]"
      ]
     },
     "execution_count": 141,
     "metadata": {},
     "output_type": "execute_result"
    }
   ],
   "source": [
    "ready_data"
   ]
  },
  {
   "cell_type": "markdown",
   "metadata": {},
   "source": [
    "Без всего:"
   ]
  },
  {
   "cell_type": "code",
   "execution_count": 52,
   "metadata": {},
   "outputs": [],
   "source": [
    "# data -> load_data\n",
    "# exploratory_data_analysis, data_exploration -> eda\n",
    "# data_preprocessing -> preprocessing\n",
    "# training -> train\n",
    "# check_your_answer, check_your_answers -> check_answer\n",
    "# model -> model_building\n",
    "# just_uncomment_them -> trash\n",
    "\n",
    "\n",
    "##################### maybe\n",
    "\n",
    "# prediction - test ?"
   ]
  },
  {
   "cell_type": "code",
   "execution_count": null,
   "metadata": {},
   "outputs": [],
   "source": [
    "ready_data.loc[ready_data['tag'] == 'data_preprocessing', 'tag'] = 'preprocessing'\n",
    "ready_data.loc[ready_data['tag'] == 'modelling', 'tag'] = '"
   ]
  },
  {
   "cell_type": "code",
   "execution_count": null,
   "metadata": {},
   "outputs": [],
   "source": []
  },
  {
   "cell_type": "code",
   "execution_count": 78,
   "metadata": {},
   "outputs": [],
   "source": [
    "model'\n",
    "ready_data.loc[ready_data['tag'] == 'model_building', 'tag'] = 'model_building'\n",
    "ready_data.loc[ready_data['tag'] == 'data_visualization', 'tag'] = 'visualization'\n",
    "ready_data.loc[ready_data['tag'] == 'data', 'tag'] = 'load_data'\n",
    "ready_data.loc[ready_data['tag'] == 'exploratory_data_analysis', 'tag'] = 'eda'\n",
    "ready_data.loc[ready_data['tag'] == 'training', 'tag'] = 'train'\n",
    "\n",
    "jut_inds = ready_data[ready_data['tag'] == 'just_uncomment_them'].index\n",
    "ready_data.drop(index=jut_inds, axis=0, inplace=True)\n",
    "jut_inds = ready_data[ready_data['tag'] == 'check_your_answer'].index\n",
    "ready_data.drop(index=jut_inds, axis=0, inplace=True)\n",
    "jut_inds = ready_data[ready_data['tag'] == 'check_your_answers'].index\n",
    "ready_data.drop(index=jut_inds, axis=0, inplace=True)\n",
    "jut_inds = ready_data[ready_data['tag'] == 'your_code_here'].index\n",
    "ready_data.drop(index=jut_inds, axis=0, inplace=True)"
   ]
  },
  {
   "cell_type": "markdown",
   "metadata": {},
   "source": [
    "Вариант для лемматизации:"
   ]
  },
  {
   "cell_type": "code",
   "execution_count": 79,
   "metadata": {},
   "outputs": [
    {
     "data": {
      "text/plain": [
       "\"ready_data.loc[ready_data['tag'] == 'check_your_answers', 'tag'] = 'check_your_answer'\\nready_data.loc[ready_data['tag'] == 'data_preprocessing', 'tag'] = 'preprocessing'\\nready_data.loc[ready_data['tag'] == 'training', 'tag'] = 'train'\\nready_data.loc[ready_data['tag'] == 'exploratory_data_analysis', 'tag'] = 'eda'\\nready_data.loc[ready_data['tag'] == 'data', 'tag'] = 'load_data'\\nready_data.loc[ready_data['tag'] == 'model_building', 'tag'] = 'model'\\n\\n\\njut_inds = ready_data[ready_data['tag'] == 'just_uncomment_them'].index\\nready_data.drop(index=jut_inds, axis=0, inplace=True)\\njut_inds = ready_data[ready_data['tag'] == 'your_code_here'].index\\nready_data.drop(index=jut_inds, axis=0, inplace=True)\""
      ]
     },
     "execution_count": 79,
     "metadata": {},
     "output_type": "execute_result"
    }
   ],
   "source": [
    "'''ready_data.loc[ready_data['tag'] == 'check_your_answers', 'tag'] = 'check_your_answer'\n",
    "ready_data.loc[ready_data['tag'] == 'data_preprocessing', 'tag'] = 'preprocessing'\n",
    "ready_data.loc[ready_data['tag'] == 'training', 'tag'] = 'train'\n",
    "ready_data.loc[ready_data['tag'] == 'exploratory_data_analysis', 'tag'] = 'eda'\n",
    "ready_data.loc[ready_data['tag'] == 'data', 'tag'] = 'load_data'\n",
    "ready_data.loc[ready_data['tag'] == 'model_building', 'tag'] = 'model'\n",
    "\n",
    "\n",
    "jut_inds = ready_data[ready_data['tag'] == 'just_uncomment_them'].index\n",
    "ready_data.drop(index=jut_inds, axis=0, inplace=True)\n",
    "jut_inds = ready_data[ready_data['tag'] == 'your_code_here'].index\n",
    "ready_data.drop(index=jut_inds, axis=0, inplace=True)'''"
   ]
  },
  {
   "cell_type": "markdown",
   "metadata": {},
   "source": [
    "Вариант для стемминга:"
   ]
  },
  {
   "cell_type": "code",
   "execution_count": 80,
   "metadata": {},
   "outputs": [],
   "source": [
    "# train, train_model, model_build, model, fit_model\n",
    "# train_model, fit_model -> train\n",
    "# 'data_visu' -> visual\n",
    "# model_building -> model_build"
   ]
  },
  {
   "cell_type": "code",
   "execution_count": 81,
   "metadata": {},
   "outputs": [
    {
     "data": {
      "text/plain": [
       "\"ready_data.loc[ready_data['tag'] == 'data', 'tag'] = 'load_data'\\nready_data.loc[ready_data['tag'] == 'train_model', 'tag'] = 'train'\\nready_data.loc[ready_data['tag'] == 'fit_model', 'tag'] = 'train'\\nready_data.loc[ready_data['tag'] == 'data_preprocess', 'tag'] = 'preprocess'\\nready_data.loc[ready_data['tag'] == 'check_answers', 'tag'] = 'check_answer'\\nready_data.loc[ready_data['tag'] == 'model', 'tag'] = 'model_building'\\nready_data.loc[ready_data['tag'] == 'data_visu', 'tag'] = 'visual'\\nready_data.loc[ready_data['tag'] == 'model_building', 'tag'] = 'model_build'\\n\\njut_inds = ready_data[ready_data['tag'] == 'uncomment_them'].index\\nready_data.drop(index=jut_inds, axis=0, inplace=True)\""
      ]
     },
     "execution_count": 81,
     "metadata": {},
     "output_type": "execute_result"
    }
   ],
   "source": [
    "'''ready_data.loc[ready_data['tag'] == 'data', 'tag'] = 'load_data'\n",
    "ready_data.loc[ready_data['tag'] == 'train_model', 'tag'] = 'train'\n",
    "ready_data.loc[ready_data['tag'] == 'fit_model', 'tag'] = 'train'\n",
    "ready_data.loc[ready_data['tag'] == 'data_preprocess', 'tag'] = 'preprocess'\n",
    "ready_data.loc[ready_data['tag'] == 'check_answers', 'tag'] = 'check_answer'\n",
    "ready_data.loc[ready_data['tag'] == 'model', 'tag'] = 'model_building'\n",
    "ready_data.loc[ready_data['tag'] == 'data_visu', 'tag'] = 'visual'\n",
    "ready_data.loc[ready_data['tag'] == 'model_building', 'tag'] = 'model_build'\n",
    "\n",
    "jut_inds = ready_data[ready_data['tag'] == 'uncomment_them'].index\n",
    "ready_data.drop(index=jut_inds, axis=0, inplace=True)'''"
   ]
  },
  {
   "cell_type": "code",
   "execution_count": null,
   "metadata": {},
   "outputs": [],
   "source": []
  },
  {
   "cell_type": "code",
   "execution_count": 142,
   "metadata": {},
   "outputs": [
    {
     "name": "stdout",
     "output_type": "stream",
     "text": [
      "(9197, 2)\n",
      "10\n"
     ]
    },
    {
     "data": {
      "text/plain": [
       "[('linear_algebra', 1864),\n",
       " ('load_data', 1237),\n",
       " ('model', 1224),\n",
       " ('import_librari', 1154),\n",
       " ('exploratory_data_analysi', 738),\n",
       " ('check_answ', 702),\n",
       " ('predict', 673),\n",
       " ('train', 605),\n",
       " ('plot', 513),\n",
       " ('visual', 487)]"
      ]
     },
     "execution_count": 142,
     "metadata": {},
     "output_type": "execute_result"
    }
   ],
   "source": [
    "print(ready_data.shape)\n",
    "print(ready_data['tag'].nunique())\n",
    "Counter(ready_data['tag']).most_common()"
   ]
  },
  {
   "cell_type": "markdown",
   "metadata": {},
   "source": [
    "Слишком много линейной алгебры и др, давайте из них выберем по 800 объектов (не костыль, а эксперимент)"
   ]
  },
  {
   "cell_type": "markdown",
   "metadata": {},
   "source": [
    "Удаляем unbalance:"
   ]
  },
  {
   "cell_type": "code",
   "execution_count": 143,
   "metadata": {},
   "outputs": [],
   "source": [
    "todel_mc1 = np.random.choice(\n",
    "    np.array(ready_data[ready_data['tag'] == 'linear_algebra'].index),\n",
    "    1864 - 1200,\n",
    "    replace = False\n",
    ")\n",
    "'''todel_mc2 = np.random.choice(\n",
    "    np.array(ready_data[ready_data['tag'] == 'plot'].index),\n",
    "    2955 - 1000,\n",
    "    replace = False\n",
    ")'''\n",
    "\n",
    "ready_data.drop(index=todel_mc1, inplace=True, axis=0)\n",
    "# ready_data.drop(index=todel_mc2, inplace=True, axis=0)"
   ]
  },
  {
   "cell_type": "code",
   "execution_count": 144,
   "metadata": {},
   "outputs": [
    {
     "name": "stdout",
     "output_type": "stream",
     "text": [
      "(8533, 2)\n",
      "10\n"
     ]
    },
    {
     "data": {
      "text/plain": [
       "[('load_data', 1237),\n",
       " ('model', 1224),\n",
       " ('linear_algebra', 1200),\n",
       " ('import_librari', 1154),\n",
       " ('exploratory_data_analysi', 738),\n",
       " ('check_answ', 702),\n",
       " ('predict', 673),\n",
       " ('train', 605),\n",
       " ('plot', 513),\n",
       " ('visual', 487)]"
      ]
     },
     "execution_count": 144,
     "metadata": {},
     "output_type": "execute_result"
    }
   ],
   "source": [
    "print(ready_data.shape)\n",
    "print(ready_data['tag'].nunique())\n",
    "Counter(ready_data['tag']).most_common()"
   ]
  },
  {
   "cell_type": "code",
   "execution_count": 170,
   "metadata": {},
   "outputs": [
    {
     "data": {
      "text/plain": [
       "\"DATA_PATH = '../input/CORD-19-research-challenge/'\\nCLEAN_DATA_PATH = '../input/cord-19-eda-parse-json-and-generate-clean-csv/'\\npmc_df = pd.read_csv(CLEAN_DATA_PATH + 'clean_pmc.csv')\\nbiorxiv_df = pd.read_csv(CLEAN_DATA_PATH + 'biorxiv_clean.csv')\\ncomm_use_df = pd.read_csv(CLEAN_DATA_PATH + 'clean_comm_use.csv')\\nnoncomm_use_df = pd.read_csv(CLEAN_DATA_PATH + 'clean_noncomm_use.csv')\\npapers_df = pd.concat([pmc_df,\\n                       biorxiv_df,\\n                       comm_use_df,\\n                       noncomm_use_df], axis=0).reset_index(drop=True),\""
      ]
     },
     "execution_count": 170,
     "metadata": {},
     "output_type": "execute_result"
    }
   ],
   "source": [
    "ready_data[ready_data['tag'] == 'load_data']['code_block'][2010]"
   ]
  },
  {
   "cell_type": "code",
   "execution_count": 186,
   "metadata": {},
   "outputs": [],
   "source": [
    "jut_inds = ready_data[ready_data['tag'] == 'specify_none_want_read_whole_fil'].index\n",
    "ready_data.drop(index=jut_inds, axis=0, inplace=True)\n",
    "\n",
    "jut_inds = ready_data[ready_data['tag'] == 'maturitysize1_size_maturity_1__small_2__medium_3__large_4__extra_large_0__specifi'].index\n",
    "ready_data.drop(index=jut_inds, axis=0, inplace=True)\n",
    "\n",
    "jut_inds = ready_data[ready_data['tag'] == 'check_answ_fill_line_get_names_columns_missing_valu_fill_lines_drop_columns_training_validation_data_code'].index\n",
    "ready_data.drop(index=jut_inds, axis=0, inplace=True)"
   ]
  },
  {
   "cell_type": "code",
   "execution_count": 208,
   "metadata": {},
   "outputs": [
    {
     "name": "stderr",
     "output_type": "stream",
     "text": [
      "100%|██████████| 74863/74863 [01:25<00:00, 880.30it/s] \n"
     ]
    }
   ],
   "source": [
    "mc = Counter(ready_data['tag']).most_common()\n",
    "for el in tqdm(mc):\n",
    "    if 'check' in el[0]:\n",
    "        to_del_ind = ready_data[ready_data['tag'] == el[0]].index\n",
    "        ready_data.drop(index=to_del_ind, axis=0, inplace=True)"
   ]
  },
  {
   "cell_type": "code",
   "execution_count": 209,
   "metadata": {},
   "outputs": [
    {
     "name": "stdout",
     "output_type": "stream",
     "text": [
      "(126576, 3)\n",
      "71836\n"
     ]
    },
    {
     "data": {
      "text/plain": [
       "[('model', 629),\n",
       " ('predict', 359),\n",
       " ('train', 287),\n",
       " ('random_forest', 272),\n",
       " ('feature_engin', 255),\n",
       " ('submiss', 240),\n",
       " ('load_data', 239),\n",
       " ('preprocess', 202),\n",
       " ('data_preprocess', 200),\n",
       " ('eda', 170),\n",
       " ('visual', 163),\n",
       " ('fit_rfmodelonfulldata_data_training_data_improve_accuracy_create_new_random_forest_model_train_training_data',\n",
       "  156),\n",
       " ('model_build', 156),\n",
       " ('import', 151),\n",
       " ('test', 149),\n",
       " ('xgboost', 146),\n",
       " ('data_visu', 142),\n",
       " ('importing_librari', 141),\n",
       " ('exploratory_data_analysi', 137),\n",
       " ('data_processing_csv_file_io_eg_pdreadcsv_linear_algebra', 131),\n",
       " ('logistic_regress', 125),\n",
       " ('data_explor', 122),\n",
       " ('import_librari', 120),\n",
       " ('loading_data', 113),\n",
       " ('train_model', 107),\n",
       " ('decision_tre', 106),\n",
       " ('data_load', 105),\n",
       " ('result', 105),\n",
       " ('importing_data', 103),\n",
       " ('read_data', 103),\n",
       " ('linear_regress', 99),\n",
       " ('data_clean', 99),\n",
       " ('data', 90),\n",
       " ('train_test_split', 89),\n",
       " ('training_model', 86),\n",
       " ('reading_data', 85),\n",
       " ('librari', 80),\n",
       " ('import_data', 79),\n",
       " ('feature_select', 79),\n",
       " ('feature_sc', 78),\n",
       " ('importing_dataset', 78),\n",
       " ('plot', 75),\n",
       " ('data_prepar', 74),\n",
       " ('lightgbm', 73),\n",
       " ('confusion_matrix', 72),\n",
       " ('featur', 72),\n",
       " ('1', 70),\n",
       " ('analysis_year', 69),\n",
       " ('scatter_plot', 68),\n",
       " ('indepent_variablenumer', 67),\n",
       " ('missing_valu', 67),\n",
       " ('main_method', 66),\n",
       " ('80120gms_light_weight120160gms_medium_weight160__heavy_weight', 65),\n",
       " ('2', 64),\n",
       " ('traintest_split', 61),\n",
       " ('dataset', 61),\n",
       " ('age', 60),\n",
       " ('locations_less_5_cas', 59),\n",
       " ('input', 59),\n",
       " ('get_data', 58),\n",
       " ('normal', 58),\n",
       " ('feature_import', 56),\n",
       " ('null_valu', 55),\n",
       " ('since_test_doesnt_contain_user_traffic_remov', 53),\n",
       " ('combiun', 53),\n",
       " ('predicting_model', 53),\n",
       " ('submit', 52),\n",
       " ('load_dataset', 52),\n",
       " ('blend', 51),\n",
       " ('scale', 51),\n",
       " ('going_make_one_big_row_play_rusher_last_on', 50),\n",
       " ('comparis', 49),\n",
       " ('ada_boost', 49),\n",
       " ('loading_dataset', 49),\n",
       " ('add_featur', 48),\n",
       " ('label_encod', 48),\n",
       " ('data_model', 47),\n",
       " ('univariate_analysi', 47),\n",
       " ('import_dataset', 47),\n",
       " ('grselletim', 46),\n",
       " ('infer', 45),\n",
       " ('pall_data_analyzed_graphical_analysis_performed_age_rates_suicide_ratesp',\n",
       "  45),\n",
       " ('data_process', 45),\n",
       " ('neural_network', 45),\n",
       " ('inference_que_answ', 44),\n",
       " ('creating_model_competitionbuild_random_forest_model_train_x', 44),\n",
       " ('create_model', 44),\n",
       " ('please_create_barplot_credithistory_stacked_loanstatus_grouped_gend', 44),\n",
       " ('svm', 44),\n",
       " ('evalu', 44),\n",
       " ('multivariate_analysi', 44),\n",
       " ('train_data', 44),\n",
       " ('building_model', 44),\n",
       " ('initial_preprocess', 43),\n",
       " ('converting_string_date_time_python_vers', 43),\n",
       " ('random_forest_classifi', 43),\n",
       " ('visualizing_data', 43),\n",
       " ('lstm_model', 43),\n",
       " ('fit_model', 43),\n",
       " ('make_submiss', 42),\n",
       " ('splitting_data_training_validation_set', 42),\n",
       " ('random_forest_regressor', 42),\n",
       " ('fill_line_preprocess_test_data_fill_line_get_test_predict', 41),\n",
       " ('bagging_regressor', 41),\n",
       " ('breaking_data_day', 41),\n",
       " ('0008190903198586506', 41),\n",
       " ('decision_tree_classifi', 41),\n",
       " ('make_predict', 41),\n",
       " ('correl', 41),\n",
       " ('make_predictionsread_file_test_data_apply_model_make_predict', 40),\n",
       " ('forecast', 40),\n",
       " ('titanic_disaster_model', 40),\n",
       " ('best_model', 40),\n",
       " ('test_data', 40),\n",
       " ('pca', 40),\n",
       " ('helper_funct', 39),\n",
       " ('recapheres_code_youve_written_far_start_run', 39),\n",
       " ('naive_bay', 39),\n",
       " ('lets_split_data_trainv', 38),\n",
       " ('date_29102018', 38),\n",
       " ('sentiment_data', 38),\n",
       " ('histogram', 38),\n",
       " ('define_model', 37),\n",
       " ('pretrain', 37),\n",
       " ('analysi', 37),\n",
       " ('lets_get_back_italy_model', 36),\n",
       " ('changing_ord', 35),\n",
       " ('first_lets_see_top_25_cities_bangladesh', 35),\n",
       " ('variavel_sex_est_descritiva', 35),\n",
       " ('model_evalu', 35),\n",
       " ('codes_rodrigo_lima__rodrigolima82', 34),\n",
       " ('resultshead', 34),\n",
       " ('lets_remove_target_try_estimate_clustering_techniques_kmean', 34),\n",
       " ('http', 34),\n",
       " ('brmake_model_matchtyp', 33),\n",
       " ('image_data_gener', 33),\n",
       " ('test_random_input', 33),\n",
       " ('evaluating_model', 33),\n",
       " ('fare', 33),\n",
       " ('exploring_data', 33),\n",
       " ('prepare_submiss', 33),\n",
       " ('heatmap', 33),\n",
       " ('price', 33),\n",
       " ('improve_accuracy_create_new_random_forest_model_train_training_data_fit_rfmodelonfulldata_data',\n",
       "  32),\n",
       " ('provinance_state_made_blank_help_gropuby_function_l', 32),\n",
       " ('create_submiss', 32),\n",
       " ('ann', 32),\n",
       " ('exampl', 32),\n",
       " ('read_family_information_sample_submiss', 31),\n",
       " ('iterative_regress', 31),\n",
       " ('averaged_base_models_class', 31),\n",
       " ('dataload', 31),\n",
       " ('comear_visualizaes_com_plot', 31),\n",
       " ('cnn_model_trainable_nonstatic_embed', 31),\n",
       " ('q1_printpppppppp', 31),\n",
       " ('model_train', 31),\n",
       " ('gradient_boost', 31),\n",
       " ('knn', 31),\n",
       " ('take_look_predict', 30),\n",
       " ('arima_model', 30),\n",
       " ('feature_extract', 30),\n",
       " ('attach', 30),\n",
       " ('forecasting_cases_fat', 30),\n",
       " ('prediction_test_data', 30),\n",
       " ('fit', 30),\n",
       " ('end', 30),\n",
       " ('3', 30),\n",
       " ('run_next_code_cell_get_mae_approach', 29),\n",
       " ('level4', 29),\n",
       " ('light_gbm', 29),\n",
       " ('preliminary_eda', 29),\n",
       " ('country_wise_confirmed_fatalitiesdeath_cases_plot', 29),\n",
       " ('univari', 29),\n",
       " ('bar_plot', 29),\n",
       " ('load_librari', 29),\n",
       " ('spaci', 29),\n",
       " ('name', 29),\n",
       " ('functions_anchoring_offense_moving_left_00', 28),\n",
       " ('main_part_load_train_pred_blend', 28),\n",
       " ('import_packag', 28),\n",
       " ('true_positive___1391000_0139_true_negative__381000__0038', 28),\n",
       " ('found_good_results_using_naive_bayes_nlp_method', 28),\n",
       " ('convert_boolean_columns_binary_numeric_valu', 28),\n",
       " ('note_self__data_three_parts_coz_three_notebook', 28),\n",
       " ('build_model', 28),\n",
       " ('vector_visu', 28),\n",
       " ('foundationheatingfunctionalgarageyrbltsaletyp', 28),\n",
       " ('simple_forecast', 28),\n",
       " ('compile_model', 28),\n",
       " ('calculate_growth_factorwhere__c__number_confirmed_casesgrowth_factor__cncn1',\n",
       "  27),\n",
       " ('click_code_button_see_code_import_libraries_load_data', 27),\n",
       " ('ml_model', 27),\n",
       " ('kmerk1234166484', 27),\n",
       " ('looks_like_somewhat_linear_relationship_especially_period_1940_onward', 27),\n",
       " ('try_predict_neural_network', 27),\n",
       " ('task_2', 27),\n",
       " ('task1', 27),\n",
       " ('svm_classifi', 27),\n",
       " ('predict_hold_dataset_new_papers_label', 27),\n",
       " ('prediction_part', 27),\n",
       " ('column_wise_data_wragling_clean', 27),\n",
       " ('removing_outli', 27),\n",
       " ('cleaning_data', 27),\n",
       " ('nn', 27),\n",
       " ('10', 27),\n",
       " ('ensemble_perform', 26),\n",
       " ('data_gath', 26),\n",
       " ('creating_submission_fil', 26),\n",
       " ('set_color_equal_vari_color__nprandomrandn500_set_color_equal_vari', 26),\n",
       " ('awesome_missing_data', 26),\n",
       " ('knearest_neighbor_knn_classif', 26),\n",
       " ('2_predict_number_deaths_using_regress', 26),\n",
       " ('top_words_abstract', 26),\n",
       " ('clinicallifet', 26),\n",
       " ('id7a_br_7_cleaning_data', 26),\n",
       " ('kfold_cross_valid', 26),\n",
       " ('part_2_time_series_forecast', 26),\n",
       " ('task_5', 26),\n",
       " ('stack', 26),\n",
       " ('cross_valid', 26),\n",
       " ('test_set_predict', 26),\n",
       " ('analysis_barcelona_data', 25),\n",
       " ('working_numeric_featur', 25),\n",
       " ('ayn_grselletirmeye_hue__variety_parametresini_ekleyerek_3_bir_boyut_verelim',\n",
       "  25),\n",
       " ('correlation_matrix', 25),\n",
       " ('missing_value_imput', 25),\n",
       " ('many_rows__text_description_column_exactly_subset_column_text', 25),\n",
       " ('alinear_regress', 25),\n",
       " ('see_tree_behaves_bett', 25),\n",
       " ('remove_unlabeled_data', 25),\n",
       " ('encoding__non_numerical_values_numerical_values_one_hot_encoding_dummy_variables_label_encod',\n",
       "  25),\n",
       " ('comparao_de_portugal_com_outros_pas', 25),\n",
       " ('task_9', 25),\n",
       " ('task_7', 25),\n",
       " ('task_6', 25),\n",
       " ('task_10', 25),\n",
       " ('one_hot_encoding_categorical_featur', 25),\n",
       " ('grid_search', 25),\n",
       " ('fix', 25),\n",
       " ('remove_outli', 25),\n",
       " ('adaboost', 25),\n",
       " ('lstm', 25),\n",
       " ('prepare_data', 25),\n",
       " ('importing_required_librari', 25),\n",
       " ('time_actual_submiss', 24),\n",
       " ('fatal', 24),\n",
       " ('cnn_20_classes_trained_open_image_validation_set', 24),\n",
       " ('eda_train_data', 24),\n",
       " ('scatterplot_ile_petallength_petalwidth_deikenlerinin_dalmlarn_izdirelim',\n",
       "  24),\n",
       " ('fill_nan_values_province_area_countries_nam', 24),\n",
       " ('tratamento_dos_dados_constantes_dos_relatrios_dirios_da_direo_geral_de_sad',\n",
       "  24),\n",
       " ('first_download_pretrained_model', 24),\n",
       " ('test_model_single_sampl', 24),\n",
       " ('link_httpswwwkagglecommlgulbcreditcardfraud', 24),\n",
       " ('prophet', 24),\n",
       " ('random_forest_model', 24),\n",
       " ('bivariate_analysi', 24),\n",
       " ('final_predict', 23),\n",
       " ('iek_tr_iin__farkl_keman_grafiini_sepallength_deikeninin_dalm_zerine_tek_bir_satr_ile_grselletirelim',\n",
       "  23),\n",
       " ('petal_length_ile_sepal_length_deerlerini_toplayarak_yeni_bir_total_length_znitelii_oluturalm',\n",
       "  23),\n",
       " ('submission_data', 23),\n",
       " ('simple_example_unet_segmentation_kera', 23),\n",
       " ('analysis_visu', 23),\n",
       " ('ecfp', 23),\n",
       " ('data_preprocessing_visu', 23),\n",
       " ('using_pretrained_modelhttpswwwkagglecomateplyukkerasimet2020tputrain_tpu_infer',\n",
       "  23),\n",
       " ('cross__valid', 23),\n",
       " ('selecting_rows_column', 23),\n",
       " ('single_step', 23),\n",
       " ('simple_basic_pipeline_problem', 23),\n",
       " ('external_data_clean', 23),\n",
       " ('task2', 23),\n",
       " ('font_size4_section_4_predictive_analytics_font', 23),\n",
       " ('build_final_model_submiss', 23),\n",
       " ('ls_input', 23),\n",
       " ('install_import_necessary_packag', 23),\n",
       " ('answer', 23),\n",
       " ('xgboost_model', 23),\n",
       " ('box_plot', 23),\n",
       " ('token', 23),\n",
       " ('model_fit', 23),\n",
       " ('yard', 23),\n",
       " ('predict_test_data', 23),\n",
       " ('countri', 23),\n",
       " ('reading_dataset', 23),\n",
       " ('process_queri', 22),\n",
       " ('convert_images_vector', 22),\n",
       " ('ayn_iki_veriyi_daha_farkl_bir_adan_frekanslaryla_incelemek_iin_jointplot_kullanarak_grselletirelim',\n",
       "  22),\n",
       " ('feature_engineering_stacking____folding_______cod', 22),\n",
       " ('quick_text_min', 22),\n",
       " ('prediction_unseen_data_set', 22),\n",
       " ('youtubecom', 22),\n",
       " ('last_category_name_19__cannot_category_nam', 22),\n",
       " ('spanish_movi', 22),\n",
       " ('load_databunch', 22),\n",
       " ('first_try_using_logistic_regression_implemented_numpi', 22),\n",
       " ('salgnn_trkiyedeki_durumu', 22),\n",
       " ('create_test_data', 22),\n",
       " ('apply_model_news_articl', 22),\n",
       " ('confirmed_cases_fat', 22),\n",
       " ('work_progress', 22),\n",
       " ('correlations_heatmap', 22),\n",
       " ('setup', 22),\n",
       " ('submission_csv', 22),\n",
       " ('many_yards_nfl_player_gain_receiving_handoff', 22),\n",
       " ('fitting_model', 22),\n",
       " ('util', 22),\n",
       " ('titl', 22),\n",
       " ('missing_data', 22),\n",
       " ('making_submiss', 22),\n",
       " ('encod', 22),\n",
       " ('training_data', 22),\n",
       " ('specify_none_want_read_whole_fil_traincsv_may_rows_reality_loadingpreviewing_first_1000_row',\n",
       "  21),\n",
       " ('daha_iyi_anlayabilmek_iin_sepalwidth_zerine_bir_distplot_izdirelim', 21),\n",
       " ('machine_learn', 21),\n",
       " ('model_tun', 21),\n",
       " ('4_neural_networks_deep_learning_model', 21),\n",
       " ('dont_vote_upvote_andrews_new_script', 21),\n",
       " ('incorrectly_predicted_class', 21),\n",
       " ('catagorical_column', 21),\n",
       " ('project_coview', 21),\n",
       " ('201812020___ym20192020', 21),\n",
       " ('splitting_data_training_testing_set', 21),\n",
       " ('arima_model__autoregressive_p_integrated_moving_average_q', 21),\n",
       " ('artklar', 21),\n",
       " ('dnn_imporved_data', 21),\n",
       " ('compatible_sklearn', 21),\n",
       " ('encode_test_data', 21),\n",
       " ('ngusembassygov', 21),\n",
       " ('passiveagressiveclassifi', 21),\n",
       " ('save_model', 21),\n",
       " ('base_model', 21),\n",
       " ('telenganatodaycom__ppe_kits_telangana_cops_covid19_duti', 21),\n",
       " ('predicting_valu', 21),\n",
       " ('load_packag', 21),\n",
       " ('creating_submiss', 21),\n",
       " ('outlier', 21),\n",
       " ('importing_packag', 21),\n",
       " ('date', 21),\n",
       " ('accuraci', 21),\n",
       " ('visualize_predict', 20),\n",
       " ('david_model', 20),\n",
       " ('importing_necessary_packag', 20),\n",
       " ('font_colorred_size5if_appreciate_effort_putting_please_upvote_us__font',\n",
       "  20),\n",
       " ('know_covid19_risk_factor', 20),\n",
       " ('eda_test_data', 20),\n",
       " ('tta_lazy_lik', 20),\n",
       " ('wine_quality_prediction_practice_notebook', 20),\n",
       " ('based_location_data', 20),\n",
       " ('preprocessing_cleaning_data', 20),\n",
       " ('decision_tree_model', 20),\n",
       " ('regresso_logistica', 20),\n",
       " ('httpfinding_tweets_markup_languag', 20),\n",
       " ('add_data_augment', 20),\n",
       " ('2004_2359_____________________________________________________3______10______eda______10',\n",
       "  20),\n",
       " ('kde_plots_kernel_density_estim', 20),\n",
       " ('combining_dataframes_get_dummy_variables_countri', 20),\n",
       " ('prediction__random_forest_classif', 20),\n",
       " ('prediction_stageupdated_vs_origin', 20),\n",
       " ('saurabh_agarwal_j001_aakash_kumar_j004_manas_tokale_j053', 20),\n",
       " ('demo', 20),\n",
       " ('randomized_search_cross_valid', 20),\n",
       " ('explorarory_data_analysi', 20),\n",
       " ('randomforestclassifi', 20),\n",
       " ('rusher', 20),\n",
       " ('load_csv_fil', 20),\n",
       " ('model_3', 20),\n",
       " ('test_dataset', 20),\n",
       " ('main_df_chang', 20),\n",
       " ('code', 20),\n",
       " ('run', 20),\n",
       " ('test_predict', 20),\n",
       " ('initi', 20),\n",
       " ('testcsv_may_rows_reality_loadingpreviewing_first_1000_row_specify_none_want_read_whole_fil',\n",
       "  19),\n",
       " ('change_bar_mod', 19),\n",
       " ('confirmed_cases_forecast', 19),\n",
       " ('specify_none_want_read_whole_fil_metadatacsv_may_rows_reality_loadingpreviewing_first_1000_row',\n",
       "  19),\n",
       " ('build_featur', 19),\n",
       " ('f7f7f7', 19),\n",
       " ('eda_analysi', 19),\n",
       " ('fe', 19),\n",
       " ('kernel_simple_modification_amazing_covid19w3submissionblend4models_kernel',\n",
       "  19),\n",
       " ('predicted_cases_india_till_14th_may_2020', 19),\n",
       " ('looks_like_xgboost_classifier_gave_best_result', 19),\n",
       " ('age_distribut', 19),\n",
       " ('spain_covid_graph', 19),\n",
       " ('code_colab_attach', 19),\n",
       " ('covi19_global_forecastingweeek_3_competit', 19),\n",
       " ('minmax_scaled_train_test_split_testsize033_random_forest_regressor_grid_search_cv',\n",
       "  19),\n",
       " ('data_analysi', 19),\n",
       " ('creating_dummy_vari', 19),\n",
       " ('categorical_data', 19),\n",
       " ('random_forest_regress', 19),\n",
       " ('grade', 19),\n",
       " ('rename_column', 19),\n",
       " ('dropout', 19),\n",
       " ('importing_necessary_librari', 19),\n",
       " ('split_data', 19),\n",
       " ('model_predict', 19),\n",
       " ('support_vector_machin', 19),\n",
       " ('4', 19),\n",
       " ('define_fit_model_get_validation_predictions_ma', 18),\n",
       " ('confirmed_covid19_cases_per_day_india', 18),\n",
       " ('import_data_make_sure_update_daily_basi', 18),\n",
       " ('part_2_analysi', 18),\n",
       " ('printtotal_number_states__lentemp', 18),\n",
       " ('eda_data_clean', 18),\n",
       " ('time_series_analysi', 18),\n",
       " ('best_submiss', 18),\n",
       " ('000000_width2', 18),\n",
       " ('fetch_brain_development_functional_dataset', 18),\n",
       " ('fastai2_training_baseline_found_helpful_please_upvot', 18),\n",
       " ('univariate_analysis_bivariate_analysi', 18),\n",
       " ('ensambl', 18),\n",
       " ('onehotencoder_dataset', 18),\n",
       " ('testing_start', 18),\n",
       " ('india_analysi', 18),\n",
       " ('namesahana_n_usneng16cs0134', 18),\n",
       " ('found_kernel_helpful_link_httpswwwkagglecomragnar123veryfstmodel', 18),\n",
       " ('example_crossvalldation_red_win', 18),\n",
       " ('lets_take_look_emoji_contained_one_training_dataset', 18),\n",
       " ('trabalho_final__series_temporais_aluno_bruno_silva_santos_ra_1931133038',\n",
       "  18),\n",
       " ('lets_try_bert', 18),\n",
       " ('lets_remove_ghost_drift', 18),\n",
       " ('shutterstockcom', 18),\n",
       " ('covid19_novel_coronavirus_eda__forecast_number_cases__data_analysi', 18),\n",
       " ('let_us_try_test_set', 18),\n",
       " ('task_2__provide_table_frequency_complaint_typ', 18),\n",
       " ('import_tensorflow', 18),\n",
       " ('processing_data', 18),\n",
       " ('look_dataset', 18),\n",
       " ('sampl', 18),\n",
       " ('classifi', 18),\n",
       " ('regress', 18),\n",
       " ('making_predict', 18),\n",
       " ('data_gener', 18),\n",
       " ('load', 18),\n",
       " ('pre_process', 18),\n",
       " ('data_augment', 18),\n",
       " ('cnn', 18),\n",
       " ('14', 18),\n",
       " ('4feature_select', 17),\n",
       " ('oscii_model', 17),\n",
       " ('trend_analysi', 17),\n",
       " ('create_submission_fil', 17),\n",
       " ('sepallengthi_55den_byk_tr_setosa_olan_gzlemleri_yazdralm', 17),\n",
       " ('arima', 17),\n",
       " ('raw_data', 17),\n",
       " ('font_colorred_size5dont_forget_upvoting_kernel_find_useful__font', 17),\n",
       " ('frequent_used_words_questionbody_questionwellwritten_score_06', 17),\n",
       " ('pivoted_plot', 17),\n",
       " ('prebfraud_transactions_datebpr', 17),\n",
       " ('3_download_data__fe_classanchor_id3aback_table_contents01', 17),\n",
       " ('latitude_longitude_states_brazil', 17),\n",
       " ('first_model', 17),\n",
       " ('df_covid19_statist', 17),\n",
       " ('tomar_diferencia', 17),\n",
       " ('dealing_test_dataset', 17),\n",
       " ('eda_visualis', 17),\n",
       " ('traffic_increased_constantly_year_year_summer_season_peak', 17),\n",
       " ('ready_xtrain_ytrain', 17),\n",
       " ('download_pycaret_librari', 17),\n",
       " ('merge_datafram', 17),\n",
       " ('combine_provincestate_countryregion', 17),\n",
       " ('english_movi', 17),\n",
       " ('data_cleaning_process', 17),\n",
       " ('positive_negative_datasets_almost_evenly_balanc', 17),\n",
       " ('predict_submission_d', 17),\n",
       " ('matrix_cr', 17),\n",
       " ('oversampling_minority_class', 17),\n",
       " ('import_stuff', 17),\n",
       " ('china', 17),\n",
       " ('model_accuraci', 17),\n",
       " ('target', 17),\n",
       " ('get_dates_outbreak', 17),\n",
       " ('classification_report', 17),\n",
       " ('linear_algebra', 17),\n",
       " ('necessary_import', 17),\n",
       " ('worldwid', 16),\n",
       " ('2data_explor', 16),\n",
       " ('could_also_see_inconsitency_start_end_tim', 16),\n",
       " ('korelasyon_katsaylarn_daha_iyi_okuyabilmek_iin_haritas_izdirelim', 16),\n",
       " ('totallengthin_ortalama_deerini_yazdralm', 16),\n",
       " ('feature_engineering_d', 16),\n",
       " ('submission_model', 16),\n",
       " ('know_vaccines_therapeut', 16),\n",
       " ('use_test_dataset', 16),\n",
       " ('lets_take_look_similar_train_test_set', 16),\n",
       " ('cabin', 16),\n",
       " ('let_run', 16),\n",
       " ('multioutput_dataloader_classanchor_idtwooutputsdataloadera', 16),\n",
       " ('see_nonsparse_variables_format_way', 16),\n",
       " ('nilearn_visu', 16),\n",
       " ('normalizing_umerical_columns_omitting_research', 16),\n",
       " ('removing_top_1_observation_help_us_deal_outli', 16),\n",
       " ('data_cleaning_transform', 16),\n",
       " ('df_illness_preval', 16),\n",
       " ('grid_search_cross_valid', 16),\n",
       " ('timeseriesmodel', 16),\n",
       " ('whether_public_wears_maskssource_knowledg', 16),\n",
       " ('applying_ths_test_set', 16),\n",
       " ('chevrolet_cars_best_meileag', 16),\n",
       " ('observable_column_50_missinng_values_data_bad', 16),\n",
       " ('choose_randomly_5_tweets_visualize_text_cont', 16),\n",
       " ('nan_count', 16),\n",
       " ('dropping_useless_columns_salestrain_datafram', 16),\n",
       " ('perform_eda', 16),\n",
       " ('success_opening_month_project', 16),\n",
       " ('features_select', 16),\n",
       " ('test_model_test_data', 16),\n",
       " ('recommendation_system', 16),\n",
       " ('applying_lightgbm_model', 16),\n",
       " ('new_graf', 16),\n",
       " ('xgb_boost', 16),\n",
       " ('submisss', 16),\n",
       " ('forecasting_using_bayesian_ridge_polynomial_classifi', 16),\n",
       " ('xval__npreshapexvalxvalshape0xvalshape1xvalshape21', 16),\n",
       " ('data_overviewlets_look_data_first', 16),\n",
       " ('initialize_model', 16),\n",
       " ('statistical_analysi', 16),\n",
       " ('install_depend', 16),\n",
       " ('violin_plot', 16),\n",
       " ('training_loop', 16),\n",
       " ('dataregularitdata', 16),\n",
       " ('convert_request_timestamp_column_datetime_oject', 16),\n",
       " ('final_model', 16),\n",
       " ('lasso', 16),\n",
       " ('catboost', 16),\n",
       " ('plot_feature_import', 16),\n",
       " ('lda', 16),\n",
       " ('removing_id_related_categorical_column', 16),\n",
       " ('text_clean', 16),\n",
       " ('lgb', 16),\n",
       " ('confirmed_cas', 16),\n",
       " ('read_dataset', 16),\n",
       " ('explore_data', 16),\n",
       " ('build_distance_dataset', 15),\n",
       " ('end_stage_seed_sentences_subtask', 15),\n",
       " ('sepallengthin_maksimum_deerini_yazdralm', 15),\n",
       " ('valuecounts_fonksiyonu_ile_veri_erevemizin_ne_kadar_dengeli_daldn_sorgulayalm',\n",
       "  15),\n",
       " ('test_zon', 15),\n",
       " ('scatter_density_plot', 15),\n",
       " ('create_help', 15),\n",
       " ('stat_stack', 15),\n",
       " ('calculate_countri', 15),\n",
       " ('known_transmission_incubation_environmental_st', 15),\n",
       " ('splitting_dataset', 15),\n",
       " ('compatible_sklearn_neural_network_model', 15),\n",
       " ('results_write_current_directory_saved_output', 15),\n",
       " ('helper_functions_class', 15),\n",
       " ('positive_tweet', 15),\n",
       " ('lgbm', 15),\n",
       " ('published_medical_car', 15),\n",
       " ('card1__card6', 15),\n",
       " ('appying_previous_stuff_test_wel', 15),\n",
       " ('notebook_deal_positive_negative_neutral_samples_independ', 15),\n",
       " ('maximum_9_choices_consid', 15),\n",
       " ('feature_preprocess', 15),\n",
       " ('randomizedsearch___score__paramet', 15),\n",
       " ('data_training_ready_lets_train_model', 15),\n",
       " ('analysis_model_train', 15),\n",
       " ('still_clearly_see_problem_heteroscedasticitydifferenced_time_seri', 15),\n",
       " ('comparison', 15),\n",
       " ('finding_constant_values_dropping_data', 15),\n",
       " ('steps_test_data_train', 15),\n",
       " ('full_train', 15),\n",
       " ('columns_eliminated_unique_valu', 15),\n",
       " ('see_outliers_shown_longer_right_tail_distribut', 15),\n",
       " ('1d_convolutional_neural_network', 15),\n",
       " ('log__pric', 15),\n",
       " ('extrapol', 15),\n",
       " ('data_updates_week_4', 15),\n",
       " ('forecasting_next_43_day', 15),\n",
       " ('use_keras_simple_relu_train', 15),\n",
       " ('testing_test_dataset', 15),\n",
       " ('test_inst', 15),\n",
       " ('confirmed_cases_left_yaxis_fatalities_right_yaxi', 15),\n",
       " ('map_spanish_autonomous_commun', 15),\n",
       " ('save_weights_model_hdf5_fil', 15),\n",
       " ('format_xtick_labels_3letter_month_name_day_numb_set_xaxis_major_ticks_weekly_interval_monday',\n",
       "  15),\n",
       " ('testscv', 15),\n",
       " ('netflix_movie_recommend', 15),\n",
       " ('6________6', 15),\n",
       " ('crop_production_indiabr', 15),\n",
       " ('unsupervised_sentiment_analysi', 15),\n",
       " ('graficamos_algunas_imgenes_para_ver_cmo_son', 15),\n",
       " ('model_building1_kmeans_algorithm', 15),\n",
       " ('task_4__recommendation_model', 15),\n",
       " ('abstractlets_apply_stuff_abstract_see_go', 15),\n",
       " ('commit_kernel', 15),\n",
       " ('plotting_states_maximum_minimu_donor', 15),\n",
       " ('linear_algebra_data_processing_csv_file_io_eg_pdreadcsv_results_write_current_directory_saved_output',\n",
       "  15),\n",
       " ('creating_datafram', 15),\n",
       " ('reference_pmeema_6_x_8_pochshttpswwwkagglecomtks0123456789pmeema6x8poch',\n",
       "  15),\n",
       " ('rnn', 15),\n",
       " ('predicting_test_set', 15),\n",
       " ('preprocess_data', 15),\n",
       " ('death', 15),\n",
       " ('wordcloud', 15),\n",
       " ('utility_funct', 15),\n",
       " ('importing_data_set', 15),\n",
       " ('dealing_categorical_featur', 15),\n",
       " ('import_necessary_librari', 15),\n",
       " ('score', 15),\n",
       " ('fill_missing_valu', 15),\n",
       " ('imput', 15),\n",
       " ('5', 15),\n",
       " ('use_next_code_cell_print_first_five_rows_data', 14),\n",
       " ('totallengthin_standart_sapma_deerini_yazdralm', 14),\n",
       " ('id__10abr_fill_missing_value_embarked_2_missing_value_fare_1', 14),\n",
       " ('cleaning_summary_creating_tfidf', 14),\n",
       " ('begin_train', 14),\n",
       " ('imports__utility_funct', 14),\n",
       " ('original_abhisekhs_code_data_setup_httpswwwkagglecomxhlulujigsawtpuxlmroberta',\n",
       "  14),\n",
       " ('load_dataframe_cleaned_docu', 14),\n",
       " ('build_random_forest', 14),\n",
       " ('coefficient_determination_rsquared_model__mean_squared_error', 14),\n",
       " ('figupdatelayoutcoloraxisshowscalefals', 14),\n",
       " ('data_processing_csv_file_io_eg_pdreadcsv_results_write_current_directory_saved_output_linear_algebra_input_data_files_available_input_directori',\n",
       "  14),\n",
       " ('sadness_fear_low_number_images_compared_class', 14),\n",
       " ('9_data_science_tool', 14),\n",
       " ('ticket', 14),\n",
       " ('itali', 14),\n",
       " ('gradient_boosting_classifi', 14),\n",
       " ('image_featur', 14),\n",
       " ('gratuitous_embedding_youtube_video_girl_ipanema_good_reason', 14),\n",
       " ('train_data_submit', 14),\n",
       " ('dismiss_buildings_high_error', 14),\n",
       " ('umm_much_eh', 14),\n",
       " ('4_distribution_price_log_scaling1___log__normal_distribut', 14),\n",
       " ('convert_string_datetime_python_datetim', 14),\n",
       " ('training_data_explor', 14),\n",
       " ('lets_create__new_columns_find_helps_improve_model_predict', 14),\n",
       " ('figure_s', 14),\n",
       " ('httpswwwkagglecomuberkinderefficientmetrichttp', 14),\n",
       " ('logistic_regression_classifi', 14),\n",
       " ('pretty_basic_data_clean', 14),\n",
       " ('5_compute_claim_similar', 14),\n",
       " ('n_total_number_rows_n_number_rows_word_pres', 14),\n",
       " ('convert_categorical_values_dummi', 14),\n",
       " ('confirmed_mean__29858_deaths_mean__634_recovered_mean__2002', 14),\n",
       " ('researchgatenet', 14),\n",
       " ('notebook_quick_review_used_pandas_method', 14),\n",
       " ('mp_neuron_model_class', 14),\n",
       " ('overallcond_conditon2_roofmatl_heating_electrical_funct', 14),\n",
       " ('estimator_changed_median', 14),\n",
       " ('correlation_price__vari', 14),\n",
       " ('scratch', 14),\n",
       " ('splittin_train_dataset', 14),\n",
       " ('h1_avg_response_time_across_complaint_typ', 14),\n",
       " ('concatenate_calender_data_set__sales_train_data_set', 14),\n",
       " ('final', 14),\n",
       " ('strip_plot', 14),\n",
       " ('joint_plot', 14),\n",
       " ('evaluate_fitted_model', 14),\n",
       " ('embark', 14),\n",
       " ('transfer_learn', 14),\n",
       " ('prophet_predict', 14),\n",
       " ('training_dataset', 14),\n",
       " ('cv', 14),\n",
       " ('waterfront', 14),\n",
       " ('categorical_vari', 14),\n",
       " ('xgb', 14),\n",
       " ('creating_model', 14),\n",
       " ('33', 14),\n",
       " ('preprocessing_data', 14),\n",
       " ('id', 14),\n",
       " ('descript', 14),\n",
       " ('lets_take_quick_look_data_looks_lik', 13),\n",
       " ('correlation_heat_map', 13),\n",
       " ('performing_pca', 13),\n",
       " ('visual_representations_bar_charts_pie_chart', 13),\n",
       " ('lets_look_small_collection_samples_test_video', 13),\n",
       " ('demographic_risk_factors_ag', 13),\n",
       " ('getting_index_backwords_33_test_data', 13),\n",
       " ('procedures_remain', 13),\n",
       " ('conduct_kfold_crossvalid', 13),\n",
       " ('cases_size30', 13),\n",
       " ('submit_result', 13),\n",
       " ('importing_test_data', 13),\n",
       " ('step_2', 13),\n",
       " ('data_loading_overview', 13),\n",
       " ('know_diagnostics_surveil', 13),\n",
       " ('shows_null_value_missing_valu', 13),\n",
       " ('lets_add_featur', 13),\n",
       " ('productcd', 13),\n",
       " ('code_training_model', 13),\n",
       " ('us', 13),\n",
       " ('general_informationjust_andrews_data_munging_plus_quick_genetic_programming_model',\n",
       "  13),\n",
       " ('explode_1st_slic_data_plot_plot', 13),\n",
       " ('id32font_colorsaddlebrownclean_datafonta', 13),\n",
       " ('playid_data_22_players_23171_plays_given', 13),\n",
       " ('remove_coments_add_text_sit', 13),\n",
       " ('grselletirme__visu', 13),\n",
       " ('process_cvpr_datahere_load_cvpr_data_see_model_perform', 13),\n",
       " ('outbreaknewstodaycom', 13),\n",
       " ('id9a_9_time_ag', 13),\n",
       " ('kecondongan_sama_kurtosisnya_terlalu_tinggi_kalo_mau_linear_model', 13),\n",
       " ('4_model_select', 13),\n",
       " ('decision_tree_regressor', 13),\n",
       " ('test_verisi', 13),\n",
       " ('visualize_uae_data', 13),\n",
       " ('datewise_maximum_cas', 13),\n",
       " ('sourc_new_datafram_plot_figur', 13),\n",
       " ('estimating_recovered_numb', 13),\n",
       " ('combine_fixed_model_kitchen_featur', 13),\n",
       " ('date_recent_data', 13),\n",
       " ('following_operations_done_eda_com', 13),\n",
       " ('test_data_set__converting_embarked_binari', 13),\n",
       " ('female_students_tend_perform_bett', 13),\n",
       " ('random_forest_final_submission_approach', 13),\n",
       " ('h2_idsection1_define_function_makes_dashboard__h2', 13),\n",
       " ('drop_noninformative_ordinal_data__id', 13),\n",
       " ('data_cleaning_test_data', 13),\n",
       " ('cabin_column_null_values_probably_didnt_cabin__filling_non', 13),\n",
       " ('many_days_videos_tend_trend_countri', 13),\n",
       " ('6_lstm', 13),\n",
       " ('model_time_predict', 13),\n",
       " ('making_image_generator__end', 13),\n",
       " ('apply_data_augmentation_train_data', 13),\n",
       " ('spectrogram', 13),\n",
       " ('cours', 13),\n",
       " ('creating_clust', 13),\n",
       " ('1_data_preprocessing1_null_2__3_skew_norm', 13),\n",
       " ('gulfnewscom', 13),\n",
       " ('make_prediction_sess', 13),\n",
       " ('also_registered_use_sql', 13),\n",
       " ('also_analysis_country_separ', 13),\n",
       " ('predict_test', 13),\n",
       " ('pairgrid', 13),\n",
       " ('facetgrid', 13),\n",
       " ('hackernooncom__ml_diabet', 13),\n",
       " ('samples_negtive_l', 13),\n",
       " ('covidbr', 13),\n",
       " ('datarobotcom', 13),\n",
       " ('percentage_rise_cases_per_day', 13),\n",
       " ('first_need_combine_train_test_11_provincest', 13),\n",
       " ('loading_preparing_data', 13),\n",
       " ('prepare_test_data', 13),\n",
       " ('traintestsplit', 13),\n",
       " ('bow__tfidf__nam', 13),\n",
       " ('ridg', 13),\n",
       " ('linear_regression_model', 13),\n",
       " ('init', 13),\n",
       " ('basic_model', 13),\n",
       " ('preparing_data', 13),\n",
       " ('roc_curv', 13),\n",
       " ('categori', 13),\n",
       " ('sqftlive', 13),\n",
       " ('62', 13),\n",
       " ('1_reading_data', 13),\n",
       " ('world', 13),\n",
       " ('test_model', 13),\n",
       " ('split_train_test', 13),\n",
       " ('splitting_data', 13),\n",
       " ('import_required_librari', 13),\n",
       " ('panda', 13),\n",
       " ('save_test_predictions_fil', 12),\n",
       " ('tool', 12),\n",
       " ('bu_sorunun_yantn_pekitirmek_iin_iki_deiken_arasnda_korelasyon_katsaysn_yazdralm',\n",
       "  12),\n",
       " ('create_fold_featur', 12),\n",
       " ('4_preparing_modeling_classanchor_id4a', 12),\n",
       " ('spitting_data_independent_dependent_vari', 12),\n",
       " ('total_countries_locations_affect', 12),\n",
       " ('f7f7f7_sharextru', 12),\n",
       " ('imports__data_import', 12),\n",
       " ('prediction_heatmap', 12),\n",
       " ('know', 12),\n",
       " ('installing_depend', 12),\n",
       " ('preparing_testing_data', 12),\n",
       " ('median_stack', 12),\n",
       " ('know_virus_genetics_origin_evolut', 12),\n",
       " ('see_similarity_text_selected_text_lets_closer_look', 12),\n",
       " ('ensembl', 12),\n",
       " ('pprenamecolumns__confirmedrecoverd_kalman_1_day_prediction_evalu_select_region',\n",
       "  12),\n",
       " ('naive_multiclass_lgb', 12),\n",
       " ('data_format', 12),\n",
       " ('feel_free_upvot', 12),\n",
       " ('inspect_datetime_type_data', 12),\n",
       " ('simple_clasic_text_precessing_generating_new_dataset', 12),\n",
       " ('vxxx', 12),\n",
       " ('keras_embed', 12),\n",
       " ('grid_search_best_threshold', 12),\n",
       " ('pthe_values_found_upper_side_give_total_population_found_1985_2016p', 12),\n",
       " ('h2peek_datah2', 12),\n",
       " ('brandom_forestb__classanchor_idrda', 12),\n",
       " ('correlation_fields_seen_pairplot', 12),\n",
       " ('afont_coloreeaa001_state_ml_ds_2019fonta', 12),\n",
       " ('train_modelfor_0699_score_nedd_train_20_epoch', 12),\n",
       " ('convert_make_dummi', 12),\n",
       " ('example_load_news_articl', 12),\n",
       " ('6model_build', 12),\n",
       " ('submission_stag', 12),\n",
       " ('first_seperate_features_target_traintest_split', 12),\n",
       " ('knn_algorithm', 12),\n",
       " ('polynomial_kernel', 12),\n",
       " ('basic_data_analyi', 12),\n",
       " ('rsfitxi', 12),\n",
       " ('applying_test_set', 12),\n",
       " ('loyal_customers_customers_behave_different_remaining_custom', 12),\n",
       " ('2_loading_dataset', 12),\n",
       " ('fitting_training_model', 12),\n",
       " ('div_classalert_alertsuccessh1real_time_question_answerh1div', 12),\n",
       " ('6_classify_claims_ml_model', 12),\n",
       " ('polynomial_linear_regress', 12),\n",
       " ('adding_extension_jpg_imageid', 12),\n",
       " ('test_data_set', 12),\n",
       " ('plot_loss', 12),\n",
       " ('question_f', 12),\n",
       " ('eda_exploratory_data_analysi', 12),\n",
       " ('models_week_3s_public_kernel_httpswwwkagglecomtitericzcovid19w3submissionblend4model',\n",
       "  12),\n",
       " ('predicitng_fat', 12),\n",
       " ('death_rate_prediction_canada', 12),\n",
       " ('exploring_dataset', 12),\n",
       " ('model_building__lineear_regress', 12),\n",
       " ('date_10272018', 12),\n",
       " ('predict_based_weekly_averag', 12),\n",
       " ('see_havnt_got_error_say_cleaning_images_requir', 12),\n",
       " ('vectorize_subset_english_sentences_sent2vec', 12),\n",
       " ('nameinfer_id4a_4_model_inf', 12),\n",
       " ('data_splits_prepar', 12),\n",
       " ('answer_f', 12),\n",
       " ('hierarchical_clust', 12),\n",
       " ('httpsavatars1githubusercontentcomu58118658s400u93d2659aa7c1a6b8fecc15b87a2bad4d8b0022fbv4',\n",
       "  12),\n",
       " ('model_look_lik', 12),\n",
       " ('model_compilation_loss_function_optimizer_metr', 12),\n",
       " ('high_correlation_x', 12),\n",
       " ('6_ii_gridsearchcv', 12),\n",
       " ('without_data_augment', 12),\n",
       " ('india_lockdown_after24_march', 12),\n",
       " ('deciding_final_featur', 12),\n",
       " ('price_vs_vari', 12),\n",
       " ('living__lot__floor', 12),\n",
       " ('initial_data', 12),\n",
       " ('h1_stylefontsize2em_color880303_33_prepare_test_set__make_predictionsh1',\n",
       "  12),\n",
       " ('data_preprocessing_select', 12),\n",
       " ('eda_sub', 12),\n",
       " ('q4change_image_black_whit', 12),\n",
       " ('basic_data_analysis_____pclasssurvived_____sexsurvived_____embarkedsurvived_____pclasssurviv',\n",
       "  12),\n",
       " ('simple_model__using_market_news_data', 12),\n",
       " ('keras_model', 12),\n",
       " ('rename_columns_train_test_dataset', 12),\n",
       " ('image_path', 12),\n",
       " ('testando', 12),\n",
       " ('submission_file__test_data', 12),\n",
       " ('stratifiedkfold', 12),\n",
       " ('valuecount', 12),\n",
       " ('c', 12),\n",
       " ('integ', 12),\n",
       " ('data_manipul', 12),\n",
       " ('clean', 12),\n",
       " ('comparision_countri', 12),\n",
       " ('rf', 12),\n",
       " ('walkdist', 12),\n",
       " ('autoencoderencoderdecoderoutputinput', 12),\n",
       " ('heal', 12),\n",
       " ('predicting_test_data', 12),\n",
       " ('set', 12),\n",
       " ('baselin', 12),\n",
       " ('gradient_boosting_tre', 12),\n",
       " ('pie_chart', 12),\n",
       " ('prepare_submission_fil', 12),\n",
       " ('load_model', 12),\n",
       " ('hyperparamet', 12),\n",
       " ('k_nearest_neighbor', 12),\n",
       " ('imputing_missing_valu', 12),\n",
       " ('datafram', 12),\n",
       " ('lines_give_hint_solution_cod', 11),\n",
       " ('prediction_donenow_rescale_outputs_create_submissioncsv', 11),\n",
       " ('extra_featur', 11),\n",
       " ('422_other', 11),\n",
       " ('since_model_working_expect_unfreeze_model_train', 11),\n",
       " ('high_roadkill_r', 11),\n",
       " ('start_project', 11),\n",
       " ('submissionload_predict_submit_test_image_predict', 11),\n",
       " ('create_traintest_directori', 11),\n",
       " ('tree_plot', 11),\n",
       " ('import_load_data', 11),\n",
       " ('move_iso_8601_d', 11),\n",
       " ('h1_stylefontsize2em_color880303_22_additional_informationh1', 11),\n",
       " ('part_1', 11),\n",
       " ('replace_var_name_categorical_vari', 11),\n",
       " ('todoyour_cod', 11),\n",
       " ('eli5', 11),\n",
       " ('lrschedul', 11),\n",
       " ('values_april_09', 11),\n",
       " ('href1topa', 11),\n",
       " ('mean_encoded_featur', 11),\n",
       " ('idloadingdataa_loading_data', 11),\n",
       " ('idbasicmodela_modelling_feature_gener', 11),\n",
       " ('transpose_new_result__use_method_search_row', 11),\n",
       " ('shape_data', 11),\n",
       " ('p_id11h3target_analysish3ppwe_analyze_feature_people_sick_notp', 11),\n",
       " ('respond', 11),\n",
       " ('moving_average_simpl', 11),\n",
       " ('231_outliers_investig', 11),\n",
       " ('feature_engineeringdrop_columns_count_encoding_aggregation_fillna', 11),\n",
       " ('lets_see_sample_data_point', 11),\n",
       " ('use_groupbyagg_stat_prediction_featur', 11),\n",
       " ('id6font_colordarkredmodelfonta', 11),\n",
       " ('show__examples_different_mask', 11),\n",
       " ('holts_winter_model_daily_time_seri', 11),\n",
       " ('128200_128201_descriptive_statistics_lets_look_ratings_distribut', 11),\n",
       " ('lets_fun_machine_learning_regression_algorithm', 11),\n",
       " ('machine_lear', 11),\n",
       " ('note_yards_int64', 11),\n",
       " ('negative_00_different_names_different_cent', 11),\n",
       " ('defining_loss_function_estimating_beta_gamma', 11),\n",
       " ('show_boxeshere_show_boxes_predict', 11),\n",
       " ('see_variables_correlation_target', 11),\n",
       " ('obviously_isnt_great_ill_add_text_features_soon', 11),\n",
       " ('grade___price_____11___outlier___610_outlier______7_8_11__outli', 11),\n",
       " ('download_publick_submisssions_scor', 11),\n",
       " ('debtratio', 11),\n",
       " ('preparation_test', 11),\n",
       " ('nameid5a_explore_visualize_data', 11),\n",
       " ('stand', 11),\n",
       " ('creating_new_features_existing_featur', 11),\n",
       " ('data_preprocessingi_first_make_data_compatible_neural_net', 11),\n",
       " ('define_model_parameters_set_callback', 11),\n",
       " ('id5a_5_weath', 11),\n",
       " ('lightgbm_classifi', 11),\n",
       " ('lets_explore_train_data__data_analysis_visu', 11),\n",
       " ('map_view', 11),\n",
       " ('display_features_highly_correlated_covid19_deaths_per_100000_popul', 11),\n",
       " ('well_lets_see_get_anything_better_using_rate_chang', 11),\n",
       " ('8_3jhc', 11),\n",
       " ('fastai_training_baselin', 11),\n",
       " ('degree_specialisation_much_demand_copor', 11),\n",
       " ('constructing_model', 11),\n",
       " ('start_train', 11),\n",
       " ('batch_normalization_dropout', 11),\n",
       " ('train_model_using_full_dataset', 11),\n",
       " ('flickr_dataset', 11),\n",
       " ('turns_55_equal_moleculeslets_try_substructure_match', 11),\n",
       " ('prediction_using_test_data', 11),\n",
       " ('advanced_feature_engin', 11),\n",
       " ('line_detection__using_hough_lin', 11),\n",
       " ('boston_dataset', 11),\n",
       " ('vbz_guests_continu', 11),\n",
       " ('ok_im_going_train_model_x', 11),\n",
       " ('next_chunks_proposed_another_way_train_model', 11),\n",
       " ('initial_explor', 11),\n",
       " ('sex_vs_surviv', 11),\n",
       " ('lets_try_change_model', 11),\n",
       " ('3_language_model', 11),\n",
       " ('2nd_model_recommended_target_vari', 11),\n",
       " ('patient_review', 11),\n",
       " ('arguments_passed_nphistogram', 11),\n",
       " ('enlem_boylam_stunlarndan_nan_deerlerini_kaldrma', 11),\n",
       " ('id1abr_entering_cleaning_data', 11),\n",
       " ('across_countri', 11),\n",
       " ('localsyrcom', 11),\n",
       " ('literacy_vs_birthr', 11),\n",
       " ('step8__bm25_rank_algorithm_find_related_articles_task', 11),\n",
       " ('elsoorg', 11),\n",
       " ('basic_approach', 11),\n",
       " ('global_covid_19_data_deaths_recovered_confirmed_cas', 11),\n",
       " ('trying_k_fold_cross_valid', 11),\n",
       " ('iinftyfracsumn1nexpchi_tn12sumn1n1expchi_tnfrac1infrac1i0', 11),\n",
       " ('outcome_affected_people_75', 11),\n",
       " ('predictors_total_injuries_total_uninjured_engine_typ', 11),\n",
       " ('target_variable_highly_imbalanced__hence_imbalanced_data_treatment_requir',\n",
       "  11),\n",
       " ('1_find_similarity_summary_beijing_shanghai_city_using_min_hash_jecard_similar',\n",
       "  11),\n",
       " ('siehst_du_mich', 11),\n",
       " ('reg_plot', 11),\n",
       " ('terracoeconomicocombr', 11),\n",
       " ('step_31_finding__w', 11),\n",
       " ('setorsaudecombr', 11),\n",
       " ('remove_features_little_importance_andor_experiment_see_accuracy_result',\n",
       "  11),\n",
       " ('similar_distribution_loan_amount_postitive_negative_cas', 11),\n",
       " ('rise_cases_india', 11),\n",
       " ('explore__add_column', 11),\n",
       " ('id2a_br_2_data_exploration_prepar', 11),\n",
       " ('wrote_colaboratori', 11),\n",
       " ('reading_elements_array', 11),\n",
       " ('httpsiibbco4rt3pr5ezgifcomvideotogif1gif', 11),\n",
       " ('1_time_ag', 11),\n",
       " ('2_time_gend', 11),\n",
       " ('normalize_data', 11),\n",
       " ('3_correl', 11),\n",
       " ('kernel_implements_vgg_aptos_data', 11),\n",
       " ('polynomi', 11),\n",
       " ('knn_model', 11),\n",
       " ('label', 11),\n",
       " ('1_logistic_regress', 11),\n",
       " ('oversampl', 11),\n",
       " ('evaluation_model', 11),\n",
       " ('creating_new_featur', 11),\n",
       " ('1_load_data', 11),\n",
       " ('making_confusion_matrix', 11),\n",
       " ('pair_plot', 11),\n",
       " ('visual_valid', 11),\n",
       " ('topic_model', 11),\n",
       " ('time_confirmation_release_death', 11),\n",
       " ('prepare_data_model', 11),\n",
       " ('filling_missing_valu', 11),\n",
       " ('aggreg', 11),\n",
       " ('prepare_model', 11),\n",
       " ('loop', 11),\n",
       " ...]"
      ]
     },
     "execution_count": 209,
     "metadata": {},
     "output_type": "execute_result"
    }
   ],
   "source": [
    "print(ready_data.shape)\n",
    "print(ready_data['tag'].nunique())\n",
    "Counter(ready_data['tag']).most_common()"
   ]
  },
  {
   "cell_type": "markdown",
   "metadata": {},
   "source": [
    "____________"
   ]
  },
  {
   "cell_type": "markdown",
   "metadata": {},
   "source": [
    "Соотношения train, test, val = 8.5 / 1.5 / 1.5"
   ]
  },
  {
   "cell_type": "markdown",
   "metadata": {},
   "source": [
    "Поделим нацело:"
   ]
  },
  {
   "cell_type": "code",
   "execution_count": 149,
   "metadata": {},
   "outputs": [
    {
     "data": {
      "text/plain": [
       "774.0"
      ]
     },
     "execution_count": 149,
     "metadata": {},
     "output_type": "execute_result"
    }
   ],
   "source": [
    "(ready_data.shape[0] - 9) / 11"
   ]
  },
  {
   "cell_type": "code",
   "execution_count": 150,
   "metadata": {},
   "outputs": [],
   "source": [
    "ready_data = ready_data.drop(ready_data.tail(9).index)"
   ]
  },
  {
   "cell_type": "code",
   "execution_count": 151,
   "metadata": {},
   "outputs": [
    {
     "data": {
      "text/plain": [
       "774.0"
      ]
     },
     "execution_count": 151,
     "metadata": {},
     "output_type": "execute_result"
    }
   ],
   "source": [
    "ready_data.shape[0] / 11"
   ]
  },
  {
   "cell_type": "markdown",
   "metadata": {},
   "source": [
    "То есть размер трейна:"
   ]
  },
  {
   "cell_type": "code",
   "execution_count": 152,
   "metadata": {},
   "outputs": [
    {
     "data": {
      "text/plain": [
       "6192.0"
      ]
     },
     "execution_count": 152,
     "metadata": {},
     "output_type": "execute_result"
    }
   ],
   "source": [
    "774.0 * 8"
   ]
  },
  {
   "cell_type": "code",
   "execution_count": 153,
   "metadata": {},
   "outputs": [
    {
     "data": {
      "text/plain": [
       "0             plot\n",
       "1             plot\n",
       "2             plot\n",
       "3             plot\n",
       "4             plot\n",
       "           ...    \n",
       "18991    load_data\n",
       "18992    load_data\n",
       "18993    load_data\n",
       "18994        train\n",
       "18995        train\n",
       "Name: tag, Length: 8514, dtype: object"
      ]
     },
     "execution_count": 153,
     "metadata": {},
     "output_type": "execute_result"
    }
   ],
   "source": [
    "ready_data['tag']"
   ]
  },
  {
   "cell_type": "markdown",
   "metadata": {},
   "source": [
    "Стратифайдом делю на трейн, тест, сплит"
   ]
  },
  {
   "cell_type": "code",
   "execution_count": 155,
   "metadata": {},
   "outputs": [],
   "source": [
    "# https://stackoverflow.com/questions/40829137/stratified-train-validation-test-split-in-scikit-learn\n",
    "\n",
    "from sklearn.model_selection import StratifiedShuffleSplit\n",
    "SEED = 42001\n",
    "\n",
    "split = StratifiedShuffleSplit(n_splits=1, test_size=3/11, random_state=SEED)\n",
    "for train_index, test_valid_index in split.split(\\\n",
    "                                                 ready_data.drop('tag', axis=1), \\\n",
    "                                                 ready_data['tag']\\\n",
    "                                                ):\n",
    "    train_set = ready_data.iloc[train_index]\n",
    "    test_valid_set = ready_data.iloc[test_valid_index]\n",
    "\n",
    "split2 = StratifiedShuffleSplit(n_splits=1, test_size=0.5, random_state=SEED)\n",
    "for test_index, valid_index in split2.split(test_valid_set, test_valid_set['tag']):\n",
    "    test_set = test_valid_set.iloc[test_index]\n",
    "    valid_set = test_valid_set.iloc[valid_index]"
   ]
  },
  {
   "cell_type": "code",
   "execution_count": 156,
   "metadata": {},
   "outputs": [],
   "source": [
    "train_set = train_set.reset_index()\n",
    "test_set = test_set.reset_index()\n",
    "valid_set = valid_set.reset_index()"
   ]
  },
  {
   "cell_type": "markdown",
   "metadata": {},
   "source": [
    "______"
   ]
  },
  {
   "cell_type": "markdown",
   "metadata": {},
   "source": [
    "Далее все '\\n' заменяются на '\\n\\t', а также вначале каждого сниппета приписывается\n",
    "\n",
    "'def tag():\\n\\t'\n",
    "\n",
    "Каждый сниппет записывается в **отдельный файл** с названием номер_итерации.py в каталог трей, тест или валидейшн."
   ]
  },
  {
   "cell_type": "code",
   "execution_count": 157,
   "metadata": {},
   "outputs": [],
   "source": [
    "def add_tabs(exmpl):\n",
    "    new_exmpl = str()\n",
    "    for i in range(len(exmpl)):\n",
    "        if (exmpl[i]=='\\n'):\n",
    "            new_exmpl += '\\n\\t'\n",
    "        else:\n",
    "            new_exmpl += exmpl[i]\n",
    "    return new_exmpl"
   ]
  },
  {
   "cell_type": "markdown",
   "metadata": {},
   "source": [
    "train:"
   ]
  },
  {
   "cell_type": "code",
   "execution_count": 158,
   "metadata": {},
   "outputs": [],
   "source": [
    "for i in range(train_set.shape[0]):\n",
    "        exmpl = train_set.loc[i]['code_block'][:-1]\n",
    "        exmpl = add_tabs(exmpl)\n",
    "        print('def ' + str(train_set.loc[i]['tag'])+'():\\n\\t' + exmpl\n",
    "              ,  file=open('/home/kirill/code2vec/cd2vec/python/my_train/func'+str(i)+'.py', 'w'))"
   ]
  },
  {
   "cell_type": "markdown",
   "metadata": {},
   "source": [
    "test:"
   ]
  },
  {
   "cell_type": "code",
   "execution_count": 159,
   "metadata": {},
   "outputs": [],
   "source": [
    "for i in range(test_set.shape[0]):\n",
    "        exmpl = test_set.loc[i]['code_block'][:-1]\n",
    "        exmpl = add_tabs(exmpl)\n",
    "        print('def ' + str(test_set.loc[i]['tag'])+'():\\n\\t' + exmpl\n",
    "              ,  file=open('/home/kirill/code2vec/cd2vec/python/my_test/func'+str(i)+'.py', 'w'))"
   ]
  },
  {
   "cell_type": "markdown",
   "metadata": {},
   "source": [
    "valid:"
   ]
  },
  {
   "cell_type": "code",
   "execution_count": 160,
   "metadata": {},
   "outputs": [],
   "source": [
    "for i in range(valid_set.shape[0]):\n",
    "        exmpl = valid_set.loc[i]['code_block'][:-1]\n",
    "        exmpl = add_tabs(exmpl)\n",
    "        print('def ' + str(valid_set.loc[i]['tag'])+'():\\n\\t' + exmpl\n",
    "              ,  file=open('/home/kirill/code2vec/cd2vec/python/my_val/func'+str(i)+'.py', 'w'))"
   ]
  },
  {
   "cell_type": "code",
   "execution_count": 161,
   "metadata": {},
   "outputs": [
    {
     "data": {
      "text/plain": [
       "1161"
      ]
     },
     "execution_count": 161,
     "metadata": {},
     "output_type": "execute_result"
    }
   ],
   "source": [
    "len(valid_set)"
   ]
  },
  {
   "cell_type": "markdown",
   "metadata": {},
   "source": [
    "_______"
   ]
  },
  {
   "cell_type": "markdown",
   "metadata": {},
   "source": [
    "Предобработка для просто 30 строк кода посложнее, пока ее нет."
   ]
  }
 ],
 "metadata": {
  "kernelspec": {
   "display_name": "Python 3",
   "language": "python",
   "name": "python3"
  },
  "language_info": {
   "codemirror_mode": {
    "name": "ipython",
    "version": 3
   },
   "file_extension": ".py",
   "mimetype": "text/x-python",
   "name": "python",
   "nbconvert_exporter": "python",
   "pygments_lexer": "ipython3",
   "version": "3.6.9"
  }
 },
 "nbformat": 4,
 "nbformat_minor": 4
}
