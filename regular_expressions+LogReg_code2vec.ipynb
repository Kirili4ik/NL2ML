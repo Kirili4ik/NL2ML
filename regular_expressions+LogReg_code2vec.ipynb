{
 "cells": [
  {
   "cell_type": "code",
   "execution_count": 6,
   "metadata": {
    "colab": {},
    "colab_type": "code",
    "id": "VDXoZ7h3o7a2"
   },
   "outputs": [],
   "source": [
    "import pandas as pd\n",
    "import numpy as np\n",
    "import re\n",
    "import matplotlib.pyplot as plt"
   ]
  },
  {
   "cell_type": "code",
   "execution_count": 7,
   "metadata": {
    "colab": {},
    "colab_type": "code",
    "id": "hGfSdj5Ajw9B"
   },
   "outputs": [],
   "source": [
    "df = pd.read_csv('/home/kirill/code2seq/code_blocks_final_clean.csv')"
   ]
  },
  {
   "cell_type": "code",
   "execution_count": 9,
   "metadata": {
    "colab": {},
    "colab_type": "code",
    "id": "lhqeFvumTNoM"
   },
   "outputs": [],
   "source": [
    "COMM_COLUMN = 'tag'"
   ]
  },
  {
   "cell_type": "code",
   "execution_count": 10,
   "metadata": {
    "colab": {},
    "colab_type": "code",
    "id": "bv-ZljZASnW4"
   },
   "outputs": [],
   "source": [
    "df = df.dropna(subset=[COMM_COLUMN]).reset_index()"
   ]
  },
  {
   "cell_type": "code",
   "execution_count": 12,
   "metadata": {},
   "outputs": [],
   "source": [
    "df = df.drop(columns=['index', 'Unnamed: 0'], axis=1)"
   ]
  },
  {
   "cell_type": "code",
   "execution_count": 13,
   "metadata": {
    "colab": {},
    "colab_type": "code",
    "id": "lUXaQ1wpjw9U"
   },
   "outputs": [],
   "source": [
    "def wordListToFreqDict(wordlist):\n",
    "    def sortFreqDict(freqdict):\n",
    "        aux = [(freqdict[key], key) for key in freqdict]\n",
    "        aux.sort()\n",
    "        aux.reverse()\n",
    "        return aux\n",
    "    wordfreq = [wordlist.count(p) for p in wordlist]\n",
    "    return sortFreqDict(dict(list(zip(wordlist,wordfreq))))"
   ]
  },
  {
   "cell_type": "code",
   "execution_count": 17,
   "metadata": {
    "colab": {},
    "colab_type": "code",
    "id": "8DdGpT3GwvWo"
   },
   "outputs": [],
   "source": [
    "def tokens_search(df, tokens, new_column_name):\n",
    "    df[new_column_name] = 0\n",
    "    for i in range(len(df)):\n",
    "        percents = str(round(100*i/len(df),1))\n",
    "        print(percents + '%\\r', end='')\n",
    "        row = df[COMM_COLUMN][i]\n",
    "        for token in tokens:\n",
    "            result = re.search(token, row, re.IGNORECASE)\n",
    "            if result!=None:\n",
    "                df[new_column_name][i] = 1\n",
    "                break\n",
    "    return df"
   ]
  },
  {
   "cell_type": "markdown",
   "metadata": {
    "colab_type": "text",
    "id": "BssLlwj4jw9-"
   },
   "source": [
    "### Выборка для регулярных выражений\n"
   ]
  },
  {
   "cell_type": "code",
   "execution_count": 19,
   "metadata": {
    "colab": {},
    "colab_type": "code",
    "id": "DGlXzCKhjw-J"
   },
   "outputs": [],
   "source": [
    "graph = {'imports':['import', 'from', 'libr']#, 'as']\n",
    "          ,'load_data':['load', 'csv', 'glob', 'pickle', 'read', 'txt']\n",
    "          ,'visualize':['visual', 'plot', 'figure', 'draw',  'histogram', 'diagram', 'chart']\n",
    "          ,'preprocessing':['ohe','miss', 'eda', 'preprocess', 'encode', 'fill', 'merge', 'vectorize', 'gener', 'augment', 'stemm', 'lemmat', 'scal', 'normali', 'crop', 'convert', 'resize']\n",
    "          ,'model':['build', 'LinearRegression', 'RandomForest', 'Ridge', 'Lasso', 'SGD', 'LogisticRegression', 'SVM', 'SVC', 'Layer', 'xgboost', 'LGBM', 'CatBoost']\n",
    "          ,'train': ['teach', 'train', 'fit', 'epoch', 'loss', 'learn', 'optimizer',]\n",
    "          ,'predict':['score', 'predict', 'error', 'evaluation', 'MSE', 'test', 'accuracy']\n",
    "}"
   ]
  },
  {
   "cell_type": "code",
   "execution_count": 82,
   "metadata": {
    "colab": {
     "base_uri": "https://localhost:8080/",
     "height": 228
    },
    "colab_type": "code",
    "id": "1TlTFwwHjw-t",
    "outputId": "16a5f527-7dbd-4696-969d-5ac96c1a2d15",
    "scrolled": false
   },
   "outputs": [],
   "source": [
    "for i in range(0, len(graph)):\n",
    "    vertice = list(graph.keys())[i]\n",
    "    print(vertice, i)\n",
    "    tokens = graph[vertice]\n",
    "    df = tokens_search(df, tokens, vertice)"
   ]
  },
  {
   "cell_type": "markdown",
   "metadata": {
    "colab_type": "text",
    "id": "lbCPRMjSjxAD"
   },
   "source": [
    "### TF-IDF и  логичтическая регрессия"
   ]
  },
  {
   "cell_type": "code",
   "execution_count": 25,
   "metadata": {
    "colab": {},
    "colab_type": "code",
    "id": "TDLwm5UPjxAX"
   },
   "outputs": [],
   "source": [
    "corpus = df['code_block']\n",
    "train_corpus = df['code_block'][0:80000]\n",
    "test_corpus = df['code_block'][80000:]"
   ]
  },
  {
   "cell_type": "code",
   "execution_count": 26,
   "metadata": {
    "colab": {},
    "colab_type": "code",
    "id": "rkZxucYdjxAd"
   },
   "outputs": [],
   "source": [
    "from sklearn.feature_extraction.text import TfidfVectorizer\n",
    "\n",
    "tfidf = TfidfVectorizer(min_df=5\n",
    "                        , max_df = 0.3\n",
    "                        , ngram_range = (1,2)\n",
    "                        , smooth_idf = True\n",
    "                       )\n",
    "features = tfidf.fit_transform(corpus)"
   ]
  },
  {
   "cell_type": "code",
   "execution_count": 27,
   "metadata": {
    "colab": {
     "base_uri": "https://localhost:8080/",
     "height": 82
    },
    "colab_type": "code",
    "id": "-clcrT5-jxAl",
    "outputId": "6beff54f-c049-4aef-e899-322f6682a8c2"
   },
   "outputs": [
    {
     "name": "stdout",
     "output_type": "stream",
     "text": [
      "CPU times: user 99.6 ms, sys: 190 ms, total: 289 ms\n",
      "Wall time: 6.98 s\n"
     ]
    }
   ],
   "source": [
    "%%time\n",
    "from sklearn.linear_model import LogisticRegression\n",
    "from sklearn.model_selection import train_test_split\n",
    "from sklearn import metrics\n",
    "\n",
    "X_train, X_test, y_train, y_test = train_test_split(features[0:len(df['preprocessing'])], df['preprocessing'], test_size=0.25)\n",
    "clf = LogisticRegression(random_state=4321, n_jobs=-1).fit(X_train, y_train, )\n",
    "clf.fit(X_train, y_train)\n",
    "y_pred_proba = clf.predict_proba(X_test)"
   ]
  },
  {
   "cell_type": "code",
   "execution_count": 28,
   "metadata": {},
   "outputs": [
    {
     "name": "stdout",
     "output_type": "stream",
     "text": [
      "F1-score 49.33%\n",
      "pr-auc= 0.64\n"
     ]
    }
   ],
   "source": [
    "y_pred = clf.predict(X_test)\n",
    "print(f'F1-score {round(metrics.f1_score(y_test, y_pred)*100, 2)}%')\n",
    "\n",
    "prec, rec, thresholds = metrics.precision_recall_curve(y_test, y_pred_proba[:, 1])\n",
    "print('pr-auc=', round(metrics.auc(rec, prec), 2))"
   ]
  },
  {
   "cell_type": "code",
   "execution_count": 29,
   "metadata": {},
   "outputs": [
    {
     "data": {
      "text/plain": [
       "(4180, 26832)"
      ]
     },
     "execution_count": 29,
     "metadata": {},
     "output_type": "execute_result"
    }
   ],
   "source": [
    "y_pred.sum(), y_pred.shape[0]"
   ]
  },
  {
   "cell_type": "code",
   "execution_count": 30,
   "metadata": {},
   "outputs": [
    {
     "name": "stdout",
     "output_type": "stream",
     "text": [
      "F1-score 37.78%\n",
      "pr-auc= 0.48\n"
     ]
    }
   ],
   "source": [
    "y_pred = np.random.uniform(size=X_test.shape[0])\n",
    "y_pred = (y_pred > 0.5) * 1\n",
    "\n",
    "print(f'F1-score {round(metrics.f1_score(y_test, y_pred)*100, 2)}%')\n",
    "\n",
    "prec, rec, thresholds = metrics.precision_recall_curve(y_test, y_pred)\n",
    "print('pr-auc=', round(metrics.auc(rec, prec), 2))"
   ]
  },
  {
   "cell_type": "code",
   "execution_count": 31,
   "metadata": {
    "colab": {
     "base_uri": "https://localhost:8080/",
     "height": 295
    },
    "colab_type": "code",
    "id": "gwK-MPYWjxBP",
    "outputId": "fe18a38d-b88b-4db2-b5bd-4a3969f0aea7"
   },
   "outputs": [
    {
     "data": {
      "text/plain": [
       "<sklearn.metrics._plot.confusion_matrix.ConfusionMatrixDisplay at 0x7f24867ecda0>"
      ]
     },
     "execution_count": 31,
     "metadata": {},
     "output_type": "execute_result"
    },
    {
     "data": {
      "image/png": "[encoded data removed]",
      "text/plain": [
       "<Figure size 432x288 with 2 Axes>"
      ]
     },
     "metadata": {
      "needs_background": "light"
     },
     "output_type": "display_data"
    }
   ],
   "source": [
    "metrics.plot_confusion_matrix(clf, X_test, y_test, values_format='d')"
   ]
  },
  {
   "cell_type": "markdown",
   "metadata": {
    "colab": {},
    "colab_type": "code",
    "id": "FhPqZ0kpz8eR"
   },
   "source": [
    "Теперь посмотрим на результаты на валиадационной выборке:"
   ]
  },
  {
   "cell_type": "code",
   "execution_count": 63,
   "metadata": {},
   "outputs": [],
   "source": [
    "validation = pd.read_csv('/home/kirill/Desktop/all_google_sheet.csv')\n",
    "validation = validation[validation['Code'].isna() != True]"
   ]
  },
  {
   "cell_type": "code",
   "execution_count": 64,
   "metadata": {},
   "outputs": [],
   "source": [
    "validation = validation.reset_index().drop(columns=['index'], axis=1)\n"
   ]
  },
  {
   "cell_type": "code",
   "execution_count": 65,
   "metadata": {},
   "outputs": [],
   "source": [
    "to_del = []\n",
    "for i in range(validation.shape[0]):\n",
    "    if 'def' in validation.loc[i]['Code']:\n",
    "        to_del.append(i)\n",
    "\n",
    "validation = validation.drop(index=to_del, axis=1)\n",
    "validation = validation.reset_index().drop(columns=['index'], axis=1)\n",
    "validation = validation['Code']"
   ]
  },
  {
   "cell_type": "code",
   "execution_count": 67,
   "metadata": {},
   "outputs": [],
   "source": [
    "val_tfidf = tfidf.transform(validation)"
   ]
  },
  {
   "cell_type": "code",
   "execution_count": 68,
   "metadata": {},
   "outputs": [
    {
     "name": "stdout",
     "output_type": "stream",
     "text": [
      "F1-score 74.75%\n",
      "pr-auc= 0.8\n"
     ]
    },
    {
     "data": {
      "text/plain": [
       "(111, 186)"
      ]
     },
     "execution_count": 68,
     "metadata": {},
     "output_type": "execute_result"
    }
   ],
   "source": [
    "y_pred = clf.predict(val_tfidf)\n",
    "y_test = (np.zeros_like(y_pred) == 0) * 1\n",
    "print(f'F1-score {round(metrics.f1_score(y_pred, y_test)*100, 2)}%')\n",
    "\n",
    "prec, rec, thresholds = metrics.precision_recall_curve(y_pred, y_test)\n",
    "print('pr-auc=', round(metrics.auc(rec, prec), 2))\n",
    "y_pred.sum(), y_pred.shape[0]"
   ]
  },
  {
   "cell_type": "code",
   "execution_count": 75,
   "metadata": {
    "scrolled": true
   },
   "outputs": [
    {
     "data": {
      "text/plain": [
       "('f1', 0.7474747474747475)"
      ]
     },
     "execution_count": 75,
     "metadata": {},
     "output_type": "execute_result"
    }
   ],
   "source": [
    "precision = 1\n",
    "recall = (111)/ (186)\n",
    "'f1', 2*precision*recall / (precision + recall)"
   ]
  },
  {
   "cell_type": "markdown",
   "metadata": {},
   "source": [
    "### Предсказания модели code2vec"
   ]
  },
  {
   "cell_type": "code",
   "execution_count": null,
   "metadata": {},
   "outputs": [],
   "source": [
    "f = open('/home/kirill/code2vec/last_pred.txt', 'r')\n",
    "lines = f.readlines()"
   ]
  },
  {
   "cell_type": "code",
   "execution_count": null,
   "metadata": {},
   "outputs": [],
   "source": [
    "corr_ans = 0\n",
    "for line in lines:\n",
    "    if line[25] == 'p':\n",
    "        corr_ans += 1\n",
    "\n",
    "corr_ans, len(lines)"
   ]
  },
  {
   "cell_type": "markdown",
   "metadata": {},
   "source": [
    "Полученные результаты для валидационного датасета:"
   ]
  },
  {
   "cell_type": "code",
   "execution_count": 84,
   "metadata": {},
   "outputs": [
    {
     "data": {
      "text/plain": [
       "('f1', 0.5863453815261045)"
      ]
     },
     "execution_count": 84,
     "metadata": {},
     "output_type": "execute_result"
    }
   ],
   "source": [
    "precision = 1\n",
    "recall = (56+17)/ (86+90)\n",
    "'f1', 2*precision*recall / (precision + recall)"
   ]
  }
 ],
 "metadata": {
  "colab": {
   "collapsed_sections": [],
   "name": "Copy of NL2ML: Regex Labeling + LogReg.ipynb",
   "provenance": [],
   "toc_visible": true
  },
  "kernelspec": {
   "display_name": "Python 3",
   "language": "python",
   "name": "python3"
  },
  "language_info": {
   "codemirror_mode": {
    "name": "ipython",
    "version": 3
   },
   "file_extension": ".py",
   "mimetype": "text/x-python",
   "name": "python",
   "nbconvert_exporter": "python",
   "pygments_lexer": "ipython3",
   "version": "3.6.9"
  }
 },
 "nbformat": 4,
 "nbformat_minor": 1
}
